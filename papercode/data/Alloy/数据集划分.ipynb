{
 "cells": [
  {
   "cell_type": "markdown",
   "id": "4b075b64",
   "metadata": {},
   "source": [
    "# 对原有数据集分析"
   ]
  },
  {
   "cell_type": "code",
   "execution_count": 2,
   "id": "57fc5747",
   "metadata": {},
   "outputs": [],
   "source": [
    "import pandas as pd\n",
    "\n",
    "# 读取Excel文件\n",
    "file_path = 'original_data/data.s1.xlsx'  # 替换为你的Excel文件路径\n",
    "df = pd.read_excel(file_path, index_col=0, header=0)"
   ]
  },
  {
   "cell_type": "code",
   "execution_count": 3,
   "id": "2ea71f50",
   "metadata": {},
   "outputs": [
    {
     "name": "stdout",
     "output_type": "stream",
     "text": [
      "Index(['C (mass%)', 'Si (mass%)', 'Mn (mass%)', 'P (mass%)', 'S (mass%)',\n",
      "       'Ni (mass%)', 'Cr (mass%)', 'Mo (mass%)', 'Cu (mass%)', 'W (mass%)',\n",
      "       'Co (mass%)', 'Al (mass%)', 'N (mass%)', 'Nb+Ta (mass%)', 'B (mass%)',\n",
      "       'V (mass%)', 'Ti (mass%)', 'Fe (mass%)', 'Zr (mass%)', 'Re (mass%)',\n",
      "       'Y (mass%)', 'Hf (mass%)'],\n",
      "      dtype='object')\n"
     ]
    }
   ],
   "source": [
    "# 提取第10列到倒数第四列的数据\n",
    "composition_data = df.iloc[:, 9:-3]\n",
    "\n",
    "y_data = df.iloc[:, -1]\n",
    "\n",
    "# 打印成分数据的列标签\n",
    "column_labels = composition_data.columns\n",
    "print(column_labels)"
   ]
  },
  {
   "cell_type": "markdown",
   "id": "eb405a51",
   "metadata": {},
   "source": [
    "# 划分成分数据"
   ]
  },
  {
   "cell_type": "code",
   "execution_count": 4,
   "id": "a844cc53",
   "metadata": {},
   "outputs": [
    {
     "name": "stdout",
     "output_type": "stream",
     "text": [
      "前两行:\n",
      "Class\n",
      "1    125.2\n",
      "2    267.6\n",
      "Name: Creep rupture life (h), dtype: float64\n",
      "\n",
      "最后两行:\n",
      "Class\n",
      "71    2170.1\n",
      "72    7558.0\n",
      "Name: Creep rupture life (h), dtype: float64\n"
     ]
    }
   ],
   "source": [
    "# 划分成分数据\n",
    "fe_data = composition_data.iloc[:72, :]\n",
    "\n",
    "y_fe = y_data.iloc[:72]\n",
    "\n",
    "# 打印前两行和最后两行\n",
    "print(\"前两行:\")\n",
    "print(y_fe.head(2))\n",
    "\n",
    "print(\"\\n最后两行:\")\n",
    "print(y_fe.tail(2))"
   ]
  },
  {
   "cell_type": "code",
   "execution_count": 5,
   "id": "aed43b79",
   "metadata": {},
   "outputs": [
    {
     "name": "stdout",
     "output_type": "stream",
     "text": [
      "前两行:\n",
      "Class\n",
      "73     90.6\n",
      "74    699.3\n",
      "Name: Creep rupture life (h), dtype: float64\n",
      "\n",
      "最后两行:\n",
      "Class\n",
      "172     184.1\n",
      "173    2748.6\n",
      "Name: Creep rupture life (h), dtype: float64\n"
     ]
    }
   ],
   "source": [
    "oth_data = composition_data.iloc[72:173, :]\n",
    "\n",
    "y_oth = y_data.iloc[72:173]\n",
    "\n",
    "# 打印前两行和最后两行\n",
    "print(\"前两行:\")\n",
    "print(y_oth.head(2))\n",
    "\n",
    "print(\"\\n最后两行:\")\n",
    "print(y_oth.tail(2))"
   ]
  },
  {
   "cell_type": "code",
   "execution_count": 6,
   "id": "9b30a3ac",
   "metadata": {},
   "outputs": [
    {
     "name": "stdout",
     "output_type": "stream",
     "text": [
      "前两行:\n",
      "Class\n",
      "174    202.1\n",
      "175    382.5\n",
      "Name: Creep rupture life (h), dtype: float64\n",
      "\n",
      "最后两行:\n",
      "Class\n",
      "210     732.9\n",
      "211    6451.9\n",
      "Name: Creep rupture life (h), dtype: float64\n"
     ]
    }
   ],
   "source": [
    "co_data = composition_data.iloc[173:211, :]\n",
    "\n",
    "y_co = y_data.iloc[173:211]\n",
    "\n",
    "# 打印前两行和最后两行\n",
    "print(\"前两行:\")\n",
    "print(y_co.head(2))\n",
    "\n",
    "print(\"\\n最后两行:\")\n",
    "print(y_co.tail(2))"
   ]
  },
  {
   "cell_type": "code",
   "execution_count": 7,
   "id": "14354de4",
   "metadata": {},
   "outputs": [
    {
     "name": "stdout",
     "output_type": "stream",
     "text": [
      "前两行:\n",
      "Class\n",
      "212     8.7\n",
      "213    89.0\n",
      "Name: Creep rupture life (h), dtype: float64\n",
      "\n",
      "最后两行:\n",
      "Class\n",
      "752    199.2\n",
      "753    129.2\n",
      "Name: Creep rupture life (h), dtype: float64\n"
     ]
    }
   ],
   "source": [
    "ni_data = composition_data.iloc[211:753, :]\n",
    "\n",
    "y_ni = y_data.iloc[211:753]\n",
    "\n",
    "# 打印前两行和最后两行\n",
    "print(\"前两行:\")\n",
    "print(y_ni.head(2))\n",
    "\n",
    "print(\"\\n最后两行:\")\n",
    "print(y_ni.tail(2))"
   ]
  },
  {
   "cell_type": "markdown",
   "id": "aef21ab4",
   "metadata": {},
   "source": [
    "# 分析合金成分"
   ]
  },
  {
   "cell_type": "code",
   "execution_count": 8,
   "id": "8a770cd0",
   "metadata": {},
   "outputs": [],
   "source": [
    "fe_data = composition_data.iloc[:72, :]\n",
    "oth_data = composition_data.iloc[72:173, :]\n",
    "co_data = composition_data.iloc[173:211, :]\n",
    "ni_data = composition_data.iloc[211:753, :]"
   ]
  },
  {
   "cell_type": "code",
   "execution_count": 10,
   "id": "13984774",
   "metadata": {},
   "outputs": [
    {
     "data": {
      "image/png": "[encoded data removed]",
      "text/plain": [
       "<Figure size 864x576 with 4 Axes>"
      ]
     },
     "metadata": {
      "needs_background": "light"
     },
     "output_type": "display_data"
    }
   ],
   "source": [
    "import matplotlib.pyplot as plt\n",
    "\n",
    "# 创建一个2x2的子图布局\n",
    "fig, axes = plt.subplots(nrows=2, ncols=2, figsize=(12, 8))\n",
    "\n",
    "# 对每个数据集进行相同操作并画箱线图\n",
    "for ax, data, title in zip(axes.flatten(), [fe_data, oth_data, co_data, ni_data],\n",
    "                            ['Fe', 'oth', 'Co', 'Ni']):\n",
    "    # 计算每一列的平均值\n",
    "    column_means = data.mean()\n",
    "\n",
    "    # 找到平均值最大的三列\n",
    "    top_three_columns = column_means.nlargest(5)\n",
    "\n",
    "    # 选择占比最大的三列的数据\n",
    "    top_three_data = data[top_three_columns.index]\n",
    "\n",
    "    # 在子图中绘制箱线图\n",
    "    ax.boxplot(top_three_data.values)\n",
    "    # 在子图中绘制箱线图，设置横坐标为列标签\n",
    "    top_three_data.boxplot(ax=ax, labels=top_three_data.columns)\n",
    "    # 去除 x 轴标签中的 \"(mass%)\"\n",
    "    ax.set_xticklabels([label.get_text().replace('(mass%)', '') for label in ax.get_xticklabels()])\n",
    "\n",
    "    \n",
    "     # 计算并标注均值之和\n",
    "    sum_of_means = top_three_data.mean().sum()\n",
    "        # 获取子图的坐标范围\n",
    "    x_min, x_max, y_min, y_max = ax.axis()\n",
    "    # 在右上角标注均值之和\n",
    "    ax.text(x_max*0.9,y_max*0.9, f'Sum: {sum_of_means:.2f}', ha='right', va='top', color='red', fontsize=15)\n",
    "\n",
    "    ax.set_title(title)\n",
    "\n",
    "# 调整子图布局\n",
    "plt.tight_layout()\n",
    "\n",
    "# 显示图形\n",
    "plt.show()"
   ]
  },
  {
   "cell_type": "markdown",
   "id": "4abe9f99",
   "metadata": {},
   "source": [
    "# 对目标数据集进行分析"
   ]
  },
  {
   "cell_type": "code",
   "execution_count": 4,
   "id": "e7944723",
   "metadata": {},
   "outputs": [],
   "source": [
    "import pandas as pd\n",
    "import os"
   ]
  },
  {
   "cell_type": "code",
   "execution_count": 6,
   "id": "e18a3b4c",
   "metadata": {},
   "outputs": [],
   "source": [
    "\n",
    "folder_path = r'C:\\Users\\13282\\Desktop\\papercode\\data\\Alloy\\original_data' \n",
    "\n",
    "file_path = os.path.join(folder_path, 'data.s2.xlsx')\n",
    "\n",
    "\n",
    "df_t = pd.read_excel(file_path, index_col=0, header=0)\n",
    "\n"
   ]
  },
  {
   "cell_type": "code",
   "execution_count": 14,
   "id": "81675e80",
   "metadata": {
    "scrolled": true
   },
   "outputs": [
    {
     "name": "stdout",
     "output_type": "stream",
     "text": [
      "                                        min      max    mean     std\n",
      "Solution treatment time (h)            0.00     2.00    0.80    0.93\n",
      "Solution treatment temperature (℃)     0.00  1080.00  685.48  484.04\n",
      "Solution cooling way                   0.00     3.00    0.74    0.63\n",
      "Aging treatment time (h)               0.00    50.00    2.77    8.44\n",
      "Aging treatment temperature (℃)        0.00   770.00  467.01  330.43\n",
      "Aging cooling way                      0.00     1.00    0.67    0.47\n",
      "2nd aging treatment time (h)           0.00    50.00    1.14    7.49\n",
      "2nd aging treatment temperature (℃)    0.00   610.00   13.86   91.43\n",
      "2nd aging cooling way                  0.00     1.00    0.02    0.15\n",
      "C (mass%)                              0.00     0.10    0.06    0.03\n",
      "Si (mass%)                             0.00     0.46    0.24    0.17\n",
      "Ni (mass%)                             0.00     0.70    0.15    0.29\n",
      "Mo (mass%)                             0.00     0.80    0.36    0.25\n",
      "W (mass%)                              0.00     1.00    0.07    0.25\n",
      "Al (mass%)                             5.75     6.61    5.97    0.24\n",
      "N (mass%)                              0.00     0.05    0.01    0.01\n",
      "Nb+Ta (mass%)                          0.00     1.40    0.55    0.42\n",
      "B (mass%)                              0.00     0.11    0.01    0.02\n",
      "V (mass%)                              0.00     4.23    1.25    1.89\n",
      "Ti (mass%)                            82.95    89.74   85.95    2.15\n",
      "Fe (mass%)                             0.00     1.18    0.16    0.34\n",
      "Zr (mass%)                             0.00     4.00    2.44    1.64\n",
      "Sn (mass%)                             0.00     4.02    2.74    1.84\n",
      "Test temperature (℃)                 475.00   675.00  603.41   47.67\n",
      "Test stress (MPa)                     97.00   550.00  283.86   90.27\n",
      "Creep rupture life (h)                 0.00  4770.00  299.01  796.87\n",
      "(26, 4)\n"
     ]
    }
   ],
   "source": [
    "df_summary = df_t.describe().loc[[ 'min', 'max','mean', 'std',]]\n",
    "# 将结果转置，使统计信息横向排列\n",
    "df_summary_transposed = df_summary.transpose()\n",
    "\n",
    "# 将结果转置，使统计信息横向排列\n",
    "df_summary_transposed = df_summary.transpose()\n",
    "\n",
    "# 保留两位有效数字\n",
    "df_summary_transposed_rounded = df_summary_transposed.round(2)\n",
    "\n",
    "# 显示结果\n",
    "print(df_summary_transposed_rounded)\n",
    "print(df_summary_transposed_rounded.shape)\n",
    "# 保存为 Excel 文件\n",
    "df_summary_transposed_rounded.to_excel('summary_statistics.xlsx')"
   ]
  },
  {
   "cell_type": "code",
   "execution_count": null,
   "id": "322c3e2b",
   "metadata": {},
   "outputs": [],
   "source": [
    "# 分析成分数据\n",
    "composition_data = df_t.iloc[:, 9:-3]\n",
    "\n",
    "y_data = df_t.iloc[:, -1]\n",
    "\n",
    "# 打印成分数据的列标签\n",
    "column_labels = composition_data.columns\n",
    "print(column_labels)"
   ]
  },
  {
   "cell_type": "code",
   "execution_count": 4,
   "id": "3ae8ff84",
   "metadata": {},
   "outputs": [
    {
     "name": "stdout",
     "output_type": "stream",
     "text": [
      "前两行:\n",
      "Class\n",
      "1    17.0\n",
      "2    52.0\n",
      "Name: Creep rupture life (h), dtype: float64\n",
      "\n",
      "最后两行:\n",
      "Class\n",
      "87    38.0\n",
      "88    19.0\n",
      "Name: Creep rupture life (h), dtype: float64\n"
     ]
    }
   ],
   "source": [
    "ti_data = composition_data.iloc[:, :]\n",
    "y_ti = y_data.iloc[:]\n",
    "\n",
    "# 打印前两行和最后两行\n",
    "print(\"前两行:\")\n",
    "print(y_ti.head(2))\n",
    "\n",
    "print(\"\\n最后两行:\")\n",
    "print(y_ti.tail(2))"
   ]
  },
  {
   "cell_type": "code",
   "execution_count": 8,
   "id": "1e4b62f1",
   "metadata": {},
   "outputs": [
    {
     "data": {
      "image/png": "[encoded data removed]",
      "text/plain": [
       "<Figure size 432x288 with 1 Axes>"
      ]
     },
     "metadata": {
      "needs_background": "light"
     },
     "output_type": "display_data"
    }
   ],
   "source": [
    "import matplotlib.pyplot as plt\n",
    "# 创建一个1x1的子图布局\n",
    "fig, ax = plt.subplots(figsize=(6, 4))\n",
    "\n",
    "column_means = ti_data.mean()\n",
    "top_three_columns = column_means.nlargest(4)\n",
    "\n",
    "# 选择占比最大的三列的数据\n",
    "top_three_data = ti_data[top_three_columns.index]\n",
    "\n",
    "# 在子图中绘制箱线图\n",
    "ax.boxplot(top_three_data.values)\n",
    "# 在子图中绘制箱线图，设置横坐标为列标签\n",
    "top_three_data.boxplot(ax=ax, labels=top_three_data.columns)\n",
    "# 去除 x 轴标签中的 \"(mass%)\"\n",
    "ax.set_xticklabels([label.get_text().replace('(mass%)', '') for label in ax.get_xticklabels()])\n",
    "\n",
    "\n",
    " # 计算并标注均值之和\n",
    "sum_of_means = top_three_data.mean().sum()\n",
    "    # 获取子图的坐标范围\n",
    "x_min, x_max, y_min, y_max = ax.axis()\n",
    "# 在右上角标注均值之和\n",
    "ax.text(x_max*0.9,y_max*0.9, f'Sum: {sum_of_means:.2f}', ha='right', va='top', color='red', fontsize=15)\n",
    "\n",
    "ax.set_title('Ti')\n",
    "\n",
    "# 显示图形\n",
    "plt.show()"
   ]
  },
  {
   "cell_type": "markdown",
   "id": "3f22309c",
   "metadata": {},
   "source": [
    "# 对处理后的源数据集进行划分"
   ]
  },
  {
   "cell_type": "code",
   "execution_count": 10,
   "id": "3be64f64",
   "metadata": {},
   "outputs": [],
   "source": [
    "import pandas as pd\n",
    "import os\n",
    "# 读取Excel文件\n",
    "# file_path = 'data/data.S1_mat_pca.xlsx'  # 替换为你的Excel文件路径\n",
    "folder_path = r'C:\\Users\\13282\\Desktop\\papercode\\data\\Alloy\\original_data' \n",
    "file_path = os.path.join(folder_path, 'data.s1.xlsx')  # y 记得加负号 ，如果需要原始值，需要反log回去\n",
    "df = pd.read_excel(file_path)\n",
    "\n",
    "file_path_2 = os.path.join(folder_path, 'data.s2.xlsx')  # y 记得加负号 ，如果需要原始值，需要反log回去\n",
    "ti_data = pd.read_excel(file_path_2)"
   ]
  },
  {
   "cell_type": "code",
   "execution_count": 11,
   "id": "4e7af9c7",
   "metadata": {},
   "outputs": [],
   "source": [
    "fe_data = df.iloc[:72, :]\n",
    "oth_data = df.iloc[72:173, :]\n",
    "co_data = df.iloc[173:211, :]\n",
    "ni_data = df.iloc[211:753, :]"
   ]
  },
  {
   "cell_type": "code",
   "execution_count": 12,
   "id": "0e50485f",
   "metadata": {},
   "outputs": [
    {
     "name": "stdout",
     "output_type": "stream",
     "text": [
      "(72, 35)\n",
      "(88, 27)\n"
     ]
    }
   ],
   "source": [
    "print(fe_data.shape)\n",
    "print(ti_data.shape)"
   ]
  },
  {
   "cell_type": "code",
   "execution_count": 30,
   "id": "7d9219a2",
   "metadata": {},
   "outputs": [
    {
     "name": "stdout",
     "output_type": "stream",
     "text": [
      "                          min       max     mean      std\n",
      "Test temperature (℃)    204.0    1800.0   903.98   202.26\n",
      "Test stress (MPa)        10.0     800.0   261.88   181.46\n",
      "Creep rupture life (h)    1.4  117099.0  3011.87  8886.07\n",
      "(3, 4)\n"
     ]
    }
   ],
   "source": [
    "df_summary = ni_data.iloc[:, -3:].describe().loc[[ 'min', 'max','mean', 'std',]]\n",
    "# 将结果转置，使统计信息横向排列\n",
    "df_summary_transposed = df_summary.transpose()\n",
    "\n",
    "# 将结果转置，使统计信息横向排列\n",
    "df_summary_transposed = df_summary.transpose()\n",
    "\n",
    "# 保留两位有效数字\n",
    "df_summary_transposed_rounded = df_summary_transposed.round(2)\n",
    "\n",
    "# 显示结果\n",
    "print(df_summary_transposed_rounded)\n",
    "print(df_summary_transposed_rounded.shape)"
   ]
  },
  {
   "cell_type": "code",
   "execution_count": 46,
   "id": "1fb999a3",
   "metadata": {},
   "outputs": [],
   "source": [
    "y_ni =  ni_data.iloc[:, -3].values \n",
    "y_ti =  ti_data.iloc[:, -3].values \n",
    "\n",
    "# y_ni_log = np.log(y_ni)\n",
    "# y_ti_log = np.log(y_ti)\n",
    "\n",
    "# x1 = y_ni_log\n",
    "# x2 = y_ti_log\n",
    "x1 = y_ni\n",
    "x2 = y_ti"
   ]
  },
  {
   "cell_type": "code",
   "execution_count": 51,
   "id": "1b41389d",
   "metadata": {},
   "outputs": [],
   "source": [
    "color_sets = ['blue', 'green']\n",
    "color_1 = (147/255, 85/255, 150/255)\n",
    "color_2 = (116/255, 160/255, 161/255)\n",
    "\n",
    "# label_x = ' log(Creep Rupture Life) [h]'\n",
    "# label_x = ' Test stress [MPa]'\n",
    "label_x = ' Test temperature [℃]'\n",
    "\n",
    "label_y = 'Counts [-]'\n",
    "\n",
    "binwidth = 150\n",
    "axis = binwidth*2"
   ]
  },
  {
   "cell_type": "code",
   "execution_count": 52,
   "id": "f4942610",
   "metadata": {},
   "outputs": [
    {
     "data": {
      "image/png": "[encoded data removed]",
      "text/plain": [
       "<Figure size 576x432 with 1 Axes>"
      ]
     },
     "metadata": {
      "needs_background": "light"
     },
     "output_type": "display_data"
    }
   ],
   "source": [
    "import matplotlib.pyplot as plt\n",
    "import seaborn as sns\n",
    "import numpy as np\n",
    "\n",
    "\n",
    "\n",
    "fontsize = 20\n",
    "\n",
    "plt.figure(figsize=(8, 6))\n",
    "\n",
    "# 使用Seaborn的histplot绘制直方图\n",
    "sns.histplot(x1, binwidth=binwidth, alpha=0.5, color=color_1, label='Ni Data')\n",
    "sns.histplot(x2, binwidth=binwidth, alpha=0.5, color='blue', label='Ti Data')\n",
    "\n",
    "plt.gca().xaxis.set_major_locator(plt.MultipleLocator(axis))\n",
    "\n",
    "\n",
    "plt.tick_params(direction='in', length=5, width=1, labelsize=fontsize, grid_alpha=0.7)\n",
    "\n",
    "plt.xlabel(label_x, fontsize=fontsize)\n",
    "plt.ylabel(label_y, fontsize=fontsize)\n",
    "# plt.title('Distribution of Ni and Ti Data')\n",
    "legend = plt.legend(loc='best', fontsize=fontsize,frameon=False)\n",
    "plt.setp(legend.get_texts(), fontname='Arial')\n",
    "for spine in plt.gca().spines.values():\n",
    "    spine.set_linewidth(3)  # Set frame width to 3\n",
    "\n",
    "plt.show()"
   ]
  },
  {
   "cell_type": "code",
   "execution_count": null,
   "id": "23b91fef",
   "metadata": {},
   "outputs": [],
   "source": []
  },
  {
   "cell_type": "code",
   "execution_count": null,
   "id": "fdc31f08",
   "metadata": {},
   "outputs": [],
   "source": []
  },
  {
   "cell_type": "code",
   "execution_count": null,
   "id": "8dd0c4c2",
   "metadata": {},
   "outputs": [],
   "source": []
  },
  {
   "cell_type": "code",
   "execution_count": null,
   "id": "1697c30c",
   "metadata": {},
   "outputs": [],
   "source": []
  },
  {
   "cell_type": "code",
   "execution_count": null,
   "id": "fa0a7a4e",
   "metadata": {},
   "outputs": [],
   "source": []
  },
  {
   "cell_type": "code",
   "execution_count": 45,
   "id": "72ac8b89",
   "metadata": {},
   "outputs": [],
   "source": [
    "fe_data.to_excel('Fe.xlsx', index=False)\n",
    "oth_data.to_excel('others.xlsx', index=False)\n",
    "co_data.to_excel('Co.xlsx', index=False)\n",
    "ni_data.to_excel('Ni.xlsx', index=False)\n"
   ]
  },
  {
   "cell_type": "code",
   "execution_count": null,
   "id": "9d84896a",
   "metadata": {},
   "outputs": [],
   "source": []
  }
 ],
 "metadata": {
  "kernelspec": {
   "display_name": "Python 3",
   "language": "python",
   "name": "python3"
  },
  "language_info": {
   "codemirror_mode": {
    "name": "ipython",
    "version": 3
   },
   "file_extension": ".py",
   "mimetype": "text/x-python",
   "name": "python",
   "nbconvert_exporter": "python",
   "pygments_lexer": "ipython3",
   "version": "3.8.8"
  }
 },
 "nbformat": 4,
 "nbformat_minor": 5
}
