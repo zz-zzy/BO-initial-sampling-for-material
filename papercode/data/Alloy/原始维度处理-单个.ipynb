{
 "cells": [
  {
   "cell_type": "code",
   "execution_count": 1,
   "id": "c469fc86",
   "metadata": {},
   "outputs": [],
   "source": [
    "import numpy as np\n",
    "import pandas as pd\n",
    "import matplotlib.pyplot as plt"
   ]
  },
  {
   "cell_type": "code",
   "execution_count": 2,
   "id": "a71fd916",
   "metadata": {},
   "outputs": [],
   "source": [
    "from collections import Counter\n",
    "\n",
    "def find_duplicate_rows(X):\n",
    "    Z = X\n",
    "    # 将数组中的每一行表示为元组，并将这些元组存储在列表中\n",
    "    row_tuples = [tuple(row) for row in Z]\n",
    "\n",
    "    # 使用Python的collections.Counter来计算元组的出现次数\n",
    "    row_counts = Counter(row_tuples)\n",
    "\n",
    "    # 初始化总的重复次数\n",
    "    total_duplicate_count = 0\n",
    "\n",
    "    # 创建一个集合来存储已经计数过的行\n",
    "    counted_rows = set()\n",
    "\n",
    "    # 打印重复行的行号（索引）和它们的重复次数，并计算总的重复次数\n",
    "    for index, row in enumerate(Z):\n",
    "        row_tuple = tuple(row)\n",
    "        if row_tuple not in counted_rows:\n",
    "            count = row_counts[row_tuple]\n",
    "            if count > 1:\n",
    "                duplicate_indices = [i for i, r in enumerate(Z) if tuple(r) == row_tuple]\n",
    "                print(f\"行 {index} 重复了 {count} 次，与行 {duplicate_indices} 重复\")\n",
    "                total_duplicate_count += count\n",
    "            counted_rows.add(row_tuple)  # 将该行添加到已计数的行集合中\n",
    "\n",
    "    # 打印总的重复次数\n",
    "    print(f\"总的重复次数为: {total_duplicate_count}\")\n",
    "\n",
    "    # 初始化总的不同重复行数\n",
    "    total_unique_duplicate_count = 0\n",
    "\n",
    "    # 创建一个集合来存储已经计数过的行\n",
    "    counted_rows = set()\n",
    "\n",
    "    # 计算不同的重复行数\n",
    "    for row_tuple, count in row_counts.items():\n",
    "        if count > 1:\n",
    "            total_unique_duplicate_count += 1\n",
    "            counted_rows.add(row_tuple)\n",
    "\n",
    "    # 打印总的不同重复行数\n",
    "    print(f\"总的不同重复行数为: {total_unique_duplicate_count}\")"
   ]
  },
  {
   "cell_type": "code",
   "execution_count": 3,
   "id": "d18c5a04",
   "metadata": {},
   "outputs": [
    {
     "name": "stdout",
     "output_type": "stream",
     "text": [
      "(88, 27) Index(['Class', 'Solution treatment time (h)',\n",
      "       'Solution treatment temperature (℃)', 'Solution cooling way',\n",
      "       'Aging treatment time (h)', 'Aging treatment temperature (℃)',\n",
      "       'Aging cooling way', '2nd aging treatment time (h)',\n",
      "       '2nd aging treatment temperature (℃)', '2nd aging cooling way',\n",
      "       'C (mass%)', 'Si (mass%)', 'Ni (mass%)', 'Mo (mass%)', 'W (mass%)',\n",
      "       'Al (mass%)', 'N (mass%)', 'Nb+Ta (mass%)', 'B (mass%)', 'V (mass%)',\n",
      "       'Ti (mass%)', 'Fe (mass%)', 'Zr (mass%)', 'Sn (mass%)',\n",
      "       'Test temperature (℃)', 'Test stress (MPa)', 'Creep rupture life (h)'],\n",
      "      dtype='object')\n"
     ]
    }
   ],
   "source": [
    "import pandas as pd\n",
    "\n",
    "folder_path = \"original_data/\"\n",
    "\n",
    "df = pd.read_excel(folder_path + 'data.S2.xlsx')\n",
    "\n",
    "columns = df.columns\n",
    "\n",
    "print(df.shape,columns)"
   ]
  },
  {
   "cell_type": "code",
   "execution_count": 4,
   "id": "307dfd37",
   "metadata": {},
   "outputs": [
    {
     "name": "stdout",
     "output_type": "stream",
     "text": [
      "(88, 25)\n",
      "(88,)\n"
     ]
    }
   ],
   "source": [
    "x_exp = df.iloc[:, 1:-1].values  # 假设编号列是第0列，x列从第2列到倒数第二列\n",
    "y_exp = df.iloc[:, -1].values  # 最后一列作为y\n",
    "print(x_exp.shape)\n",
    "print(y_exp.shape)"
   ]
  },
  {
   "cell_type": "markdown",
   "id": "5819835a",
   "metadata": {},
   "source": [
    "# 合并重复数据"
   ]
  },
  {
   "cell_type": "code",
   "execution_count": 5,
   "id": "df3e941b",
   "metadata": {},
   "outputs": [
    {
     "name": "stdout",
     "output_type": "stream",
     "text": [
      "总的重复次数为: 0\n",
      "总的不同重复行数为: 0\n"
     ]
    }
   ],
   "source": [
    "find_duplicate_rows(x_exp)"
   ]
  },
  {
   "cell_type": "code",
   "execution_count": 6,
   "id": "44116543",
   "metadata": {},
   "outputs": [
    {
     "name": "stdout",
     "output_type": "stream",
     "text": [
      "(88, 25) (88, 25)\n",
      "(88,) (88,)\n"
     ]
    }
   ],
   "source": [
    "def merge_and_average_duplicates(X, Y):\n",
    "    # 将X中的每一行表示为元组，并将这些元组存储在列表中\n",
    "    row_tuples = [tuple(row) for row in X]\n",
    "\n",
    "    # 使用Python的collections.Counter来计算元组的出现次数\n",
    "    row_counts = Counter(row_tuples)\n",
    "\n",
    "    # 创建一个新的数组来存储合并后的X和对应的Y\n",
    "    merged_X = []\n",
    "    merged_Y = []\n",
    "\n",
    "    # 创建一个字典来存储每一行对应的Y的累加和和计数\n",
    "    y_sums = {}\n",
    "    y_counts = {}\n",
    "\n",
    "    # 遍历原始数组，合并X和对应的Y，并计算Y的累加和和计数\n",
    "    for index, (x_row, y_value) in enumerate(zip(X, Y)):\n",
    "        x_tuple = tuple(x_row)\n",
    "        if x_tuple not in y_sums:\n",
    "            y_sums[x_tuple] = y_value\n",
    "            y_counts[x_tuple] = 1\n",
    "        else:\n",
    "            y_sums[x_tuple] += y_value\n",
    "            y_counts[x_tuple] += 1\n",
    "\n",
    "    # 遍历字典，计算平均值，并将结果添加到新数组中\n",
    "    for x_tuple, y_sum in y_sums.items():\n",
    "        count = y_counts[x_tuple]\n",
    "        averaged_y = y_sum / count\n",
    "        merged_X.append(list(x_tuple))\n",
    "        merged_Y.append(averaged_y)\n",
    "\n",
    "    return np.array(merged_X), np.array(merged_Y)\n",
    "\n",
    "# 使用示例\n",
    "X_exp, Y_exp = merge_and_average_duplicates(x_exp, y_exp)\n",
    "\n",
    "print(X_exp.shape,x_exp.shape )\n",
    "print(Y_exp.shape,y_exp.shape)"
   ]
  },
  {
   "cell_type": "code",
   "execution_count": 7,
   "id": "a88459c8",
   "metadata": {},
   "outputs": [
    {
     "name": "stdout",
     "output_type": "stream",
     "text": [
      "总的重复次数为: 0\n",
      "总的不同重复行数为: 0\n"
     ]
    }
   ],
   "source": [
    "find_duplicate_rows(X_exp)"
   ]
  },
  {
   "cell_type": "markdown",
   "id": "9c9bf74b",
   "metadata": {},
   "source": [
    "# 对x进行minmax+pca+minmax"
   ]
  },
  {
   "cell_type": "code",
   "execution_count": 8,
   "id": "08248827",
   "metadata": {},
   "outputs": [],
   "source": [
    "from sklearn.preprocessing import MinMaxScaler\n",
    "\n",
    "scaler = MinMaxScaler()\n",
    "\n",
    "x_exp_mm = scaler.fit_transform(X_exp)"
   ]
  },
  {
   "cell_type": "code",
   "execution_count": 9,
   "id": "460f83b2",
   "metadata": {},
   "outputs": [
    {
     "name": "stdout",
     "output_type": "stream",
     "text": [
      "(88, 7)\n"
     ]
    }
   ],
   "source": [
    "from sklearn.decomposition import PCA\n",
    "\n",
    "def PCA_dim_select(selected_method, n_dims):\n",
    "    if selected_method == 'auto':\n",
    "        assert type(n_dims) == float\n",
    "        selected_dim = n_dims\n",
    "    elif selected_method == 'assigned':\n",
    "        # assert type(n_dims) == int\n",
    "        selected_dim = int(n_dims)\n",
    "    return selected_dim\n",
    "\n",
    "pca_dims = 0.95\n",
    "pca = PCA(n_components=PCA_dim_select('auto', pca_dims))\n",
    "\n",
    "x_exp_mm_pca = pca.fit_transform(x_exp_mm)\n",
    "print(x_exp_mm_pca.shape)"
   ]
  },
  {
   "cell_type": "code",
   "execution_count": 10,
   "id": "d4dd1978",
   "metadata": {},
   "outputs": [],
   "source": [
    "scaler1 = MinMaxScaler()\n",
    "x_exp_mm_pca_mm = scaler1.fit_transform(x_exp_mm_pca)"
   ]
  },
  {
   "cell_type": "markdown",
   "id": "6a9c331d",
   "metadata": {},
   "source": [
    "# 对y进行log"
   ]
  },
  {
   "cell_type": "code",
   "execution_count": 11,
   "id": "6766e598",
   "metadata": {},
   "outputs": [],
   "source": [
    "y_log = np.log(Y_exp)"
   ]
  },
  {
   "cell_type": "code",
   "execution_count": 12,
   "id": "d0a2c412",
   "metadata": {},
   "outputs": [
    {
     "data": {
      "image/png": "[encoded data removed]",
      "text/plain": [
       "<Figure size 720x288 with 2 Axes>"
      ]
     },
     "metadata": {
      "needs_background": "light"
     },
     "output_type": "display_data"
    }
   ],
   "source": [
    "import seaborn as sns\n",
    "import matplotlib.pyplot as plt\n",
    "\n",
    "fig, axes = plt.subplots(1, 2, figsize=(10, 4))\n",
    "sns.histplot(y_exp, kde=True, color='blue', ax=axes[0])\n",
    "axes[0].set_xlabel('y value', fontsize=18)  \n",
    "axes[0].set_ylabel('counts', fontsize=18)   \n",
    "\n",
    "sns.histplot(y_log, kde=True, color='blue', ax=axes[1])\n",
    "axes[1].set_xlabel('ln(y) normalized value', fontsize=18)  \n",
    "axes[1].set_ylabel('counts', fontsize=18)  \n",
    "axes[1].yaxis.set_major_locator(plt.MaxNLocator(integer=True))\n",
    "\n",
    "heights = [p.get_height() for p in axes[1].patches]\n",
    "for i, height in enumerate(heights):\n",
    "    if height.is_integer():  \n",
    "        axes[1].annotate(str(int(height)), (axes[1].patches[i].get_x() + axes[1].patches[i].get_width() / 2, height),\n",
    "                         ha='center', va='bottom', fontsize=10, color='black')\n",
    "\n",
    "plt.tight_layout()\n",
    "plt.show()"
   ]
  },
  {
   "cell_type": "markdown",
   "id": "5f8d1e51",
   "metadata": {},
   "source": [
    "# x与y合并为数据集"
   ]
  },
  {
   "cell_type": "code",
   "execution_count": 13,
   "id": "e998c7a6",
   "metadata": {},
   "outputs": [],
   "source": [
    "columns = [f'x{i+1}' for i in range(x_exp_mm_pca_mm.shape[1])]\n",
    "x_df = pd.DataFrame(x_exp_mm_pca_mm, columns=columns)\n",
    "y_df = pd.DataFrame(y_log, columns=['y_log'])\n",
    "merged_data = pd.concat([x_df, y_df], axis=1)\n",
    "merged_data.to_excel('processed_data/s2_data.xlsx', index=False)"
   ]
  },
  {
   "cell_type": "code",
   "execution_count": null,
   "id": "97004673",
   "metadata": {},
   "outputs": [],
   "source": []
  },
  {
   "cell_type": "code",
   "execution_count": null,
   "id": "5d1e7a7a",
   "metadata": {},
   "outputs": [],
   "source": []
  },
  {
   "cell_type": "code",
   "execution_count": null,
   "id": "25a2f9e5",
   "metadata": {},
   "outputs": [],
   "source": []
  },
  {
   "cell_type": "code",
   "execution_count": null,
   "id": "d08fd5e8",
   "metadata": {},
   "outputs": [],
   "source": []
  }
 ],
 "metadata": {
  "kernelspec": {
   "display_name": "Python 3",
   "language": "python",
   "name": "python3"
  },
  "language_info": {
   "codemirror_mode": {
    "name": "ipython",
    "version": 3
   },
   "file_extension": ".py",
   "mimetype": "text/x-python",
   "name": "python",
   "nbconvert_exporter": "python",
   "pygments_lexer": "ipython3",
   "version": "3.8.8"
  }
 },
 "nbformat": 4,
 "nbformat_minor": 5
}
