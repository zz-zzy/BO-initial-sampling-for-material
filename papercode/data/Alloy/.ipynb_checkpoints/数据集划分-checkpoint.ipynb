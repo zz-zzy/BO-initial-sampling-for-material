{
 "cells": [
  {
   "cell_type": "markdown",
   "id": "4b075b64",
   "metadata": {},
   "source": [
    "# 对原有数据集分析"
   ]
  },
  {
   "cell_type": "code",
   "execution_count": 1,
   "id": "57fc5747",
   "metadata": {},
   "outputs": [],
   "source": [
    "import pandas as pd\n",
    "\n",
    "# 读取Excel文件\n",
    "file_path = 'data/data.s1.xlsx'  # 替换为你的Excel文件路径\n",
    "df = pd.read_excel(file_path, index_col=0, header=0)"
   ]
  },
  {
   "cell_type": "code",
   "execution_count": 2,
   "id": "2ea71f50",
   "metadata": {},
   "outputs": [
    {
     "name": "stdout",
     "output_type": "stream",
     "text": [
      "Index(['C (mass%)', 'Si (mass%)', 'Mn (mass%)', 'P (mass%)', 'S (mass%)',\n",
      "       'Ni (mass%)', 'Cr (mass%)', 'Mo (mass%)', 'Cu (mass%)', 'W (mass%)',\n",
      "       'Co (mass%)', 'Al (mass%)', 'N (mass%)', 'Nb+Ta (mass%)', 'B (mass%)',\n",
      "       'V (mass%)', 'Ti (mass%)', 'Fe (mass%)', 'Zr (mass%)', 'Re (mass%)',\n",
      "       'Y (mass%)', 'Hf (mass%)'],\n",
      "      dtype='object')\n"
     ]
    }
   ],
   "source": [
    "# 提取第10列到倒数第四列的数据\n",
    "composition_data = df.iloc[:, 9:-3]\n",
    "\n",
    "y_data = df.iloc[:, -1]\n",
    "\n",
    "# 打印成分数据的列标签\n",
    "column_labels = composition_data.columns\n",
    "print(column_labels)"
   ]
  },
  {
   "cell_type": "markdown",
   "id": "eb405a51",
   "metadata": {},
   "source": [
    "# 划分成分数据"
   ]
  },
  {
   "cell_type": "code",
   "execution_count": 3,
   "id": "a844cc53",
   "metadata": {},
   "outputs": [
    {
     "name": "stdout",
     "output_type": "stream",
     "text": [
      "前两行:\n",
      "Class\n",
      "1    125.2\n",
      "2    267.6\n",
      "Name: Creep rupture life (h), dtype: float64\n",
      "\n",
      "最后两行:\n",
      "Class\n",
      "71    2170.1\n",
      "72    7558.0\n",
      "Name: Creep rupture life (h), dtype: float64\n"
     ]
    }
   ],
   "source": [
    "# 划分成分数据\n",
    "fe_data = composition_data.iloc[:72, :]\n",
    "\n",
    "y_fe = y_data.iloc[:72]\n",
    "\n",
    "# 打印前两行和最后两行\n",
    "print(\"前两行:\")\n",
    "print(y_fe.head(2))\n",
    "\n",
    "print(\"\\n最后两行:\")\n",
    "print(y_fe.tail(2))"
   ]
  },
  {
   "cell_type": "code",
   "execution_count": 4,
   "id": "aed43b79",
   "metadata": {},
   "outputs": [
    {
     "name": "stdout",
     "output_type": "stream",
     "text": [
      "前两行:\n",
      "Class\n",
      "73     90.6\n",
      "74    699.3\n",
      "Name: Creep rupture life (h), dtype: float64\n",
      "\n",
      "最后两行:\n",
      "Class\n",
      "172     184.1\n",
      "173    2748.6\n",
      "Name: Creep rupture life (h), dtype: float64\n"
     ]
    }
   ],
   "source": [
    "oth_data = composition_data.iloc[72:173, :]\n",
    "\n",
    "y_oth = y_data.iloc[72:173]\n",
    "\n",
    "# 打印前两行和最后两行\n",
    "print(\"前两行:\")\n",
    "print(y_oth.head(2))\n",
    "\n",
    "print(\"\\n最后两行:\")\n",
    "print(y_oth.tail(2))"
   ]
  },
  {
   "cell_type": "code",
   "execution_count": 5,
   "id": "9b30a3ac",
   "metadata": {},
   "outputs": [
    {
     "name": "stdout",
     "output_type": "stream",
     "text": [
      "前两行:\n",
      "Class\n",
      "174    202.1\n",
      "175    382.5\n",
      "Name: Creep rupture life (h), dtype: float64\n",
      "\n",
      "最后两行:\n",
      "Class\n",
      "210     732.9\n",
      "211    6451.9\n",
      "Name: Creep rupture life (h), dtype: float64\n"
     ]
    }
   ],
   "source": [
    "co_data = composition_data.iloc[173:211, :]\n",
    "\n",
    "y_co = y_data.iloc[173:211]\n",
    "\n",
    "# 打印前两行和最后两行\n",
    "print(\"前两行:\")\n",
    "print(y_co.head(2))\n",
    "\n",
    "print(\"\\n最后两行:\")\n",
    "print(y_co.tail(2))"
   ]
  },
  {
   "cell_type": "code",
   "execution_count": 6,
   "id": "14354de4",
   "metadata": {},
   "outputs": [
    {
     "name": "stdout",
     "output_type": "stream",
     "text": [
      "前两行:\n",
      "Class\n",
      "212     8.7\n",
      "213    89.0\n",
      "Name: Creep rupture life (h), dtype: float64\n",
      "\n",
      "最后两行:\n",
      "Class\n",
      "752    199.2\n",
      "753    129.2\n",
      "Name: Creep rupture life (h), dtype: float64\n"
     ]
    }
   ],
   "source": [
    "ni_data = composition_data.iloc[211:753, :]\n",
    "\n",
    "y_ni = y_data.iloc[211:753]\n",
    "\n",
    "# 打印前两行和最后两行\n",
    "print(\"前两行:\")\n",
    "print(y_ni.head(2))\n",
    "\n",
    "print(\"\\n最后两行:\")\n",
    "print(y_ni.tail(2))"
   ]
  },
  {
   "cell_type": "markdown",
   "id": "aef21ab4",
   "metadata": {},
   "source": [
    "# 分析合金成分"
   ]
  },
  {
   "cell_type": "code",
   "execution_count": 7,
   "id": "8a770cd0",
   "metadata": {},
   "outputs": [],
   "source": [
    "fe_data = composition_data.iloc[:72, :]\n",
    "oth_data = composition_data.iloc[72:173, :]\n",
    "co_data = composition_data.iloc[173:211, :]\n",
    "ni_data = composition_data.iloc[211:753, :]"
   ]
  },
  {
   "cell_type": "code",
   "execution_count": 19,
   "id": "d5bd7d40",
   "metadata": {},
   "outputs": [
    {
     "name": "stdout",
     "output_type": "stream",
     "text": [
      "4.5 81.123\n"
     ]
    }
   ],
   "source": [
    "print(x_max,y_max)"
   ]
  },
  {
   "cell_type": "code",
   "execution_count": 27,
   "id": "13984774",
   "metadata": {},
   "outputs": [
    {
     "data": {
      "image/png": "[encoded data removed]",
      "text/plain": [
       "<Figure size 864x576 with 4 Axes>"
      ]
     },
     "metadata": {
      "needs_background": "light"
     },
     "output_type": "display_data"
    }
   ],
   "source": [
    "import matplotlib.pyplot as plt\n",
    "\n",
    "# 创建一个2x2的子图布局\n",
    "fig, axes = plt.subplots(nrows=2, ncols=2, figsize=(12, 8))\n",
    "\n",
    "# 对每个数据集进行相同操作并画箱线图\n",
    "for ax, data, title in zip(axes.flatten(), [fe_data, oth_data, co_data, ni_data],\n",
    "                            ['Fe', 'oth', 'Co', 'Ni']):\n",
    "    # 计算每一列的平均值\n",
    "    column_means = data.mean()\n",
    "\n",
    "    # 找到平均值最大的三列\n",
    "    top_three_columns = column_means.nlargest(4)\n",
    "\n",
    "    # 选择占比最大的三列的数据\n",
    "    top_three_data = data[top_three_columns.index]\n",
    "\n",
    "    # 在子图中绘制箱线图\n",
    "    ax.boxplot(top_three_data.values)\n",
    "    # 在子图中绘制箱线图，设置横坐标为列标签\n",
    "    top_three_data.boxplot(ax=ax, labels=top_three_data.columns)\n",
    "    # 去除 x 轴标签中的 \"(mass%)\"\n",
    "    ax.set_xticklabels([label.get_text().replace('(mass%)', '') for label in ax.get_xticklabels()])\n",
    "\n",
    "    \n",
    "     # 计算并标注均值之和\n",
    "    sum_of_means = top_three_data.mean().sum()\n",
    "        # 获取子图的坐标范围\n",
    "    x_min, x_max, y_min, y_max = ax.axis()\n",
    "    # 在右上角标注均值之和\n",
    "    ax.text(x_max*0.9,y_max*0.9, f'Sum: {sum_of_means:.2f}', ha='right', va='top', color='red', fontsize=15)\n",
    "\n",
    "    ax.set_title(title)\n",
    "\n",
    "# 调整子图布局\n",
    "plt.tight_layout()\n",
    "\n",
    "# 显示图形\n",
    "plt.show()"
   ]
  },
  {
   "cell_type": "markdown",
   "id": "4abe9f99",
   "metadata": {},
   "source": [
    "# 对目标数据集进行分析"
   ]
  },
  {
   "cell_type": "code",
   "execution_count": 1,
   "id": "e7944723",
   "metadata": {},
   "outputs": [],
   "source": [
    "import pandas as pd"
   ]
  },
  {
   "cell_type": "code",
   "execution_count": 3,
   "id": "e18a3b4c",
   "metadata": {},
   "outputs": [
    {
     "name": "stdout",
     "output_type": "stream",
     "text": [
      "Index(['C (mass%)', 'Si (mass%)', 'Ni (mass%)', 'Mo (mass%)', 'W (mass%)',\n",
      "       'Al (mass%)', 'N (mass%)', 'Nb+Ta (mass%)', 'B (mass%)', 'V (mass%)',\n",
      "       'Ti (mass%)', 'Fe (mass%)', 'Zr (mass%)', 'Sn (mass%)'],\n",
      "      dtype='object')\n"
     ]
    }
   ],
   "source": [
    "# 读取Excel文件\n",
    "file_path = 'data/data.s2.xlsx'  # 替换为你的Excel文件路径\n",
    "df_t = pd.read_excel(file_path, index_col=0, header=0)\n",
    "\n",
    "# 提取第10列到倒数第四列的数据\n",
    "composition_data = df_t.iloc[:, 9:-3]\n",
    "\n",
    "y_data = df_t.iloc[:, -1]\n",
    "\n",
    "# 打印成分数据的列标签\n",
    "column_labels = composition_data.columns\n",
    "print(column_labels)"
   ]
  },
  {
   "cell_type": "code",
   "execution_count": 4,
   "id": "3ae8ff84",
   "metadata": {},
   "outputs": [
    {
     "name": "stdout",
     "output_type": "stream",
     "text": [
      "前两行:\n",
      "Class\n",
      "1    17.0\n",
      "2    52.0\n",
      "Name: Creep rupture life (h), dtype: float64\n",
      "\n",
      "最后两行:\n",
      "Class\n",
      "87    38.0\n",
      "88    19.0\n",
      "Name: Creep rupture life (h), dtype: float64\n"
     ]
    }
   ],
   "source": [
    "ti_data = composition_data.iloc[:, :]\n",
    "y_ti = y_data.iloc[:]\n",
    "\n",
    "# 打印前两行和最后两行\n",
    "print(\"前两行:\")\n",
    "print(y_ti.head(2))\n",
    "\n",
    "print(\"\\n最后两行:\")\n",
    "print(y_ti.tail(2))"
   ]
  },
  {
   "cell_type": "code",
   "execution_count": 8,
   "id": "1e4b62f1",
   "metadata": {},
   "outputs": [
    {
     "data": {
      "image/png": "[encoded data removed]",
      "text/plain": [
       "<Figure size 432x288 with 1 Axes>"
      ]
     },
     "metadata": {
      "needs_background": "light"
     },
     "output_type": "display_data"
    }
   ],
   "source": [
    "import matplotlib.pyplot as plt\n",
    "# 创建一个1x1的子图布局\n",
    "fig, ax = plt.subplots(figsize=(6, 4))\n",
    "\n",
    "column_means = ti_data.mean()\n",
    "top_three_columns = column_means.nlargest(4)\n",
    "\n",
    "# 选择占比最大的三列的数据\n",
    "top_three_data = ti_data[top_three_columns.index]\n",
    "\n",
    "# 在子图中绘制箱线图\n",
    "ax.boxplot(top_three_data.values)\n",
    "# 在子图中绘制箱线图，设置横坐标为列标签\n",
    "top_three_data.boxplot(ax=ax, labels=top_three_data.columns)\n",
    "# 去除 x 轴标签中的 \"(mass%)\"\n",
    "ax.set_xticklabels([label.get_text().replace('(mass%)', '') for label in ax.get_xticklabels()])\n",
    "\n",
    "\n",
    " # 计算并标注均值之和\n",
    "sum_of_means = top_three_data.mean().sum()\n",
    "    # 获取子图的坐标范围\n",
    "x_min, x_max, y_min, y_max = ax.axis()\n",
    "# 在右上角标注均值之和\n",
    "ax.text(x_max*0.9,y_max*0.9, f'Sum: {sum_of_means:.2f}', ha='right', va='top', color='red', fontsize=15)\n",
    "\n",
    "ax.set_title('Ti')\n",
    "\n",
    "# 显示图形\n",
    "plt.show()"
   ]
  },
  {
   "cell_type": "markdown",
   "id": "3f22309c",
   "metadata": {},
   "source": [
    "# 对处理后的源数据集进行划分"
   ]
  },
  {
   "cell_type": "code",
   "execution_count": 42,
   "id": "3be64f64",
   "metadata": {},
   "outputs": [],
   "source": [
    "import pandas as pd\n",
    "\n",
    "# 读取Excel文件\n",
    "file_path = 'data/data.S1_mat_pca.xlsx'  # 替换为你的Excel文件路径\n",
    "df = pd.read_excel(file_path, index_col=None, header=0)"
   ]
  },
  {
   "cell_type": "code",
   "execution_count": 43,
   "id": "4e7af9c7",
   "metadata": {},
   "outputs": [],
   "source": [
    "fe_data = df.iloc[:72, :]\n",
    "oth_data = df.iloc[72:173, :]\n",
    "co_data = df.iloc[173:211, :]\n",
    "ni_data = df.iloc[211:753, :]"
   ]
  },
  {
   "cell_type": "code",
   "execution_count": 44,
   "id": "0e50485f",
   "metadata": {},
   "outputs": [
    {
     "name": "stdout",
     "output_type": "stream",
     "text": [
      "(72, 8)\n"
     ]
    }
   ],
   "source": [
    "print(fe_data.shape)"
   ]
  },
  {
   "cell_type": "code",
   "execution_count": 45,
   "id": "72ac8b89",
   "metadata": {},
   "outputs": [],
   "source": [
    "fe_data.to_excel('Fe.xlsx', index=False)\n",
    "oth_data.to_excel('others.xlsx', index=False)\n",
    "co_data.to_excel('Co.xlsx', index=False)\n",
    "ni_data.to_excel('Ni.xlsx', index=False)\n"
   ]
  },
  {
   "cell_type": "code",
   "execution_count": null,
   "id": "9d84896a",
   "metadata": {},
   "outputs": [],
   "source": []
  }
 ],
 "metadata": {
  "kernelspec": {
   "display_name": "Python 3",
   "language": "python",
   "name": "python3"
  },
  "language_info": {
   "codemirror_mode": {
    "name": "ipython",
    "version": 3
   },
   "file_extension": ".py",
   "mimetype": "text/x-python",
   "name": "python",
   "nbconvert_exporter": "python",
   "pygments_lexer": "ipython3",
   "version": "3.8.8"
  }
 },
 "nbformat": 4,
 "nbformat_minor": 5
}
