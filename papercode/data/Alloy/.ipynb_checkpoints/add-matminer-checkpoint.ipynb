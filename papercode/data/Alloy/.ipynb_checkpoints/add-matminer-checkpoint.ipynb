{
 "cells": [
  {
   "cell_type": "markdown",
   "id": "0fe56bb9",
   "metadata": {},
   "source": [
    "# 导入数据"
   ]
  },
  {
   "cell_type": "code",
   "execution_count": 3,
   "id": "a6dfac08",
   "metadata": {
    "scrolled": true
   },
   "outputs": [
    {
     "name": "stdout",
     "output_type": "stream",
     "text": [
      "(753, 36)\n",
      "(88, 36)\n",
      "(841, 36)\n"
     ]
    }
   ],
   "source": [
    "import pandas as pd\n",
    "\n",
    "\n",
    "folder_path = \"data/\"\n",
    "\n",
    "# 读取data.S1.xlsx和data.S2.xlsx文件\n",
    "df_s1 = pd.read_excel(folder_path + 'data.S1_scaled.xlsx')\n",
    "df_s2 = pd.read_excel(folder_path + 'data.S2_scaled.xlsx')\n",
    "\n",
    "df = pd.concat([df_s1, df_s2], axis=0)\n",
    "\n",
    "df = df.reset_index(drop=True)\n",
    "\n",
    "print(df_s1.shape)\n",
    "print(df_s2.shape)\n",
    "print(df.shape)"
   ]
  },
  {
   "cell_type": "markdown",
   "id": "b9d287cd",
   "metadata": {},
   "source": [
    "# 处理特殊列标签"
   ]
  },
  {
   "cell_type": "code",
   "execution_count": 24,
   "id": "06733af5",
   "metadata": {},
   "outputs": [],
   "source": [
    "y = df.iloc[:, -1]\n",
    "\n",
    "\n",
    "# 选择第11列到第33列的数据（根据0-based索引）\n",
    "element_columns = df.iloc[:, 10:33]\n",
    "\n",
    "# 创建一个新的 DataFrame 包含这些列\n",
    "new_df = pd.DataFrame(element_columns)\n",
    "\n",
    "new_df['Nb (mass%)'] = new_df['Nb+Ta (mass%)'] / 2\n",
    "new_df['Ta (mass%)'] = new_df['Nb+Ta (mass%)'] / 2\n",
    "\n",
    "# 删除 \"Nb+Ta\" 列\n",
    "new_df.drop(columns=['Nb+Ta (mass%)'], inplace=True)"
   ]
  },
  {
   "cell_type": "markdown",
   "id": "fb8f4e6a",
   "metadata": {},
   "source": [
    "# matminer添加描述符"
   ]
  },
  {
   "cell_type": "code",
   "execution_count": 25,
   "id": "acd730f2",
   "metadata": {
    "scrolled": true
   },
   "outputs": [
    {
     "data": {
      "application/vnd.jupyter.widget-view+json": {
       "model_id": "d1d7867e9abb455ab6f28cd41d9413ca",
       "version_major": 2,
       "version_minor": 0
      },
      "text/plain": [
       "StrToComposition:   0%|          | 0/5 [00:00<?, ?it/s]"
      ]
     },
     "metadata": {},
     "output_type": "display_data"
    },
    {
     "data": {
      "application/vnd.jupyter.widget-view+json": {
       "model_id": "4751f4bf2953436094596e39e221f205",
       "version_major": 2,
       "version_minor": 0
      },
      "text/plain": [
       "ElementProperty:   0%|          | 0/5 [00:00<?, ?it/s]"
      ]
     },
     "metadata": {},
     "output_type": "display_data"
    }
   ],
   "source": [
    "from matminer.featurizers.conversions import StrToComposition, CompositionToOxidComposition\n",
    "from matminer.featurizers.composition import ElementProperty, OxidationStates\n",
    "\n",
    "\n",
    "extracted_data = pd.DataFrame()\n",
    "# 遍历每一行和每一列\n",
    "for row_index, row in new_df.iterrows():\n",
    "    for col_name, value in row.items():\n",
    "        # 使用字符串分割方法，提取列标签中括号前的字母\n",
    "        label = col_name.split('(')[0]\n",
    "        \n",
    "        # 去除字母和数值之间的空格并连接成一个字符串\n",
    "        label_value = f\"{label}{value}\".replace(\" \", \"\")\n",
    "        \n",
    "        # 将连接后的字符串添加到提取数据的 DataFrame\n",
    "        extracted_data.loc[row_index, label] = label_value\n",
    "\n",
    "# 添加一列，将每行的内容连接成一个字符串，每一列的数据前加一个空格\n",
    "extracted_data['formula'] = \"\"\n",
    "\n",
    "extracted_data['formula'] = extracted_data.apply(lambda row: ' '.join([' ' + str(val) for val in row]), axis=1)\n",
    "\n",
    "\n",
    "\n",
    "\n",
    "df_pec = StrToComposition().featurize_dataframe(extracted_data, \"formula\")\n",
    "ep_feat = ElementProperty.from_preset(preset_name=\"magpie\")\n",
    "df_pec_magpie = ep_feat.featurize_dataframe(df_pec, col_id=\"composition\") \n"
   ]
  },
  {
   "cell_type": "markdown",
   "id": "409f12be",
   "metadata": {},
   "source": [
    "# 得到描述符数据和实验参数数据"
   ]
  },
  {
   "cell_type": "code",
   "execution_count": 26,
   "id": "5804afe7",
   "metadata": {},
   "outputs": [
    {
     "name": "stdout",
     "output_type": "stream",
     "text": [
      "(5, 132)\n",
      "(5, 11)\n"
     ]
    }
   ],
   "source": [
    "# 删除前 26 列（成分数据），保留从第 27 列开始的列（描述符数据）\n",
    "df_comp = df_pec_magpie.iloc[:, 26:]\n",
    "print(df_comp.shape)\n",
    "\n",
    "# 选取实验数据\n",
    "df_exp = df.iloc[:, 1:10].join(df.iloc[:, 33:-1], how='left')\n",
    "print(df_exp.shape)"
   ]
  },
  {
   "cell_type": "markdown",
   "id": "d7343757",
   "metadata": {},
   "source": [
    "# 分别minmaxscaler"
   ]
  },
  {
   "cell_type": "code",
   "execution_count": 28,
   "id": "a3bc3562",
   "metadata": {},
   "outputs": [],
   "source": [
    "from sklearn.preprocessing import MinMaxScaler\n",
    "\n",
    "# 创建 Min-Max 缩放器\n",
    "scaler = MinMaxScaler()\n",
    "\n",
    "# 对 df_comp 进行缩放\n",
    "df_comp_scaled = scaler.fit_transform(df_comp)\n",
    "\n",
    "# 对 df_exp 进行缩放\n",
    "df_exp_scaled = scaler.fit_transform(df_exp)\n",
    "\n",
    "# # 转换为 DataFrame（可选，如果你希望继续使用 DataFrame 格式）\n",
    "# df_comp_scaled = pd.DataFrame(df_comp_scaled, columns=df_comp.columns)\n",
    "# df_exp_scaled = pd.DataFrame(df_exp_scaled, columns=df_exp.columns)\n"
   ]
  },
  {
   "cell_type": "markdown",
   "id": "6112cfa6",
   "metadata": {},
   "source": [
    "\n",
    "# 分别pca降维"
   ]
  },
  {
   "cell_type": "code",
   "execution_count": 35,
   "id": "16d0f3f3",
   "metadata": {},
   "outputs": [],
   "source": [
    "from sklearn.decomposition import PCA\n",
    "\n",
    "def PCA_dim_select(selected_method, n_dims):\n",
    "    if selected_method == 'auto':\n",
    "        assert type(n_dims) == float\n",
    "        selected_dim = n_dims\n",
    "    elif selected_method == 'assigned':\n",
    "        # assert type(n_dims) == int\n",
    "        selected_dim = int(n_dims)\n",
    "    return selected_dim\n",
    "\n",
    "\n",
    "# 创建 PCA 模型，指定要保留的主成分数量（你可以根据需要调整）\n",
    "comp_dims = 0.98  # 选择要保留的主成分数量，必须要小于行数和列数\n",
    "exp_dims = 0.95\n",
    "# pca = PCA(n_components=PCA_dim_select('assigned', n_dims))\n",
    "\n",
    "# 创建不同的PCA实例\n",
    "\n",
    "pca_comp = PCA(n_components=PCA_dim_select('auto', comp_dims))\n",
    "pca_exp = PCA(n_components=PCA_dim_select('auto', exp_dims))\n",
    "\n",
    "\n",
    "# 对 df_comp 进行 PCA 降维\n",
    "df_comp_pca = pca_comp.fit_transform(df_comp_scaled)\n",
    "\n",
    "# 对 df_exp 进行 PCA 降维\n",
    "df_exp_pca = pca_exp.fit_transform(df_exp_scaled)\n",
    "\n",
    "print(df_comp_pca.shape)\n",
    "print(df_exp_pca.shape)"
   ]
  },
  {
   "cell_type": "markdown",
   "id": "afa5bd19",
   "metadata": {},
   "source": [
    "# 列数据合并，行数据分离"
   ]
  },
  {
   "cell_type": "code",
   "execution_count": 42,
   "id": "d6fc63d1",
   "metadata": {},
   "outputs": [
    {
     "name": "stdout",
     "output_type": "stream",
     "text": [
      "(5, 5)\n",
      "(5, 6)\n"
     ]
    }
   ],
   "source": [
    "combined_data = pd.concat([pd.DataFrame(df_comp_pca), pd.DataFrame(df_exp_pca)], axis=1)\n",
    "final_data = pd.concat([combined_data, y], axis=1)\n",
    "\n",
    "final_data = final_data.reset_index(drop=True)\n",
    "\n",
    "\n",
    "\n",
    "\n",
    "# 将合并后的数据拆分回原来的两个数据库\n",
    "df_s1_scaled = final_data.iloc[:len(df_s1), :]\n",
    "df_s2_scaled = final_data.iloc[len(df_s1):, :]\n",
    "\n"
   ]
  },
  {
   "cell_type": "code",
   "execution_count": 43,
   "id": "50199e62",
   "metadata": {},
   "outputs": [],
   "source": [
    "\n",
    "folder_path = \"data/\"\n",
    "\n",
    "# 保存处理后的 df_s1_scaled 到新的 Excel 文件\n",
    "df_s1_scaled.to_excel(folder_path + 'data.S1_mat_pca.xlsx', index=False)\n",
    "\n",
    "# 保存处理后的 df_s2_scaled 到新的 Excel 文件\n",
    "df_s2_scaled.to_excel(folder_path + 'data.S2_mat_pca.xlsx', index=False)"
   ]
  },
  {
   "cell_type": "code",
   "execution_count": null,
   "id": "35ecc15b",
   "metadata": {},
   "outputs": [],
   "source": []
  }
 ],
 "metadata": {
  "kernelspec": {
   "display_name": "Python 3",
   "language": "python",
   "name": "python3"
  },
  "language_info": {
   "codemirror_mode": {
    "name": "ipython",
    "version": 3
   },
   "file_extension": ".py",
   "mimetype": "text/x-python",
   "name": "python",
   "nbconvert_exporter": "python",
   "pygments_lexer": "ipython3",
   "version": "3.8.8"
  }
 },
 "nbformat": 4,
 "nbformat_minor": 5
}
