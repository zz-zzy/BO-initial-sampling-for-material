{
 "cells": [
  {
   "cell_type": "code",
   "execution_count": 16,
   "id": "1e5792ca",
   "metadata": {},
   "outputs": [],
   "source": [
    "from collections import Counter\n",
    "\n",
    "def find_duplicate_rows(X):\n",
    "    Z = X\n",
    "    # 将数组中的每一行表示为元组，并将这些元组存储在列表中\n",
    "    row_tuples = [tuple(row) for row in Z]\n",
    "\n",
    "    # 使用Python的collections.Counter来计算元组的出现次数\n",
    "    row_counts = Counter(row_tuples)\n",
    "\n",
    "    # 初始化总的重复次数\n",
    "    total_duplicate_count = 0\n",
    "\n",
    "    # 创建一个集合来存储已经计数过的行\n",
    "    counted_rows = set()\n",
    "\n",
    "    # 打印重复行的行号（索引）和它们的重复次数，并计算总的重复次数\n",
    "    for index, row in enumerate(Z):\n",
    "        row_tuple = tuple(row)\n",
    "        if row_tuple not in counted_rows:\n",
    "            count = row_counts[row_tuple]\n",
    "            if count > 1:\n",
    "                duplicate_indices = [i for i, r in enumerate(Z) if tuple(r) == row_tuple]\n",
    "                print(f\"行 {index} 重复了 {count} 次，与行 {duplicate_indices} 重复\")\n",
    "                total_duplicate_count += count\n",
    "            counted_rows.add(row_tuple)  # 将该行添加到已计数的行集合中\n",
    "\n",
    "    # 打印总的重复次数\n",
    "    print(f\"总的重复次数为: {total_duplicate_count}\")\n",
    "\n",
    "    # 初始化总的不同重复行数\n",
    "    total_unique_duplicate_count = 0\n",
    "\n",
    "    # 创建一个集合来存储已经计数过的行\n",
    "    counted_rows = set()\n",
    "\n",
    "    # 计算不同的重复行数\n",
    "    for row_tuple, count in row_counts.items():\n",
    "        if count > 1:\n",
    "            total_unique_duplicate_count += 1\n",
    "            counted_rows.add(row_tuple)\n",
    "\n",
    "    # 打印总的不同重复行数\n",
    "    print(f\"总的不同重复行数为: {total_unique_duplicate_count}\")"
   ]
  },
  {
   "cell_type": "code",
   "execution_count": 21,
   "id": "a605c6f6",
   "metadata": {},
   "outputs": [],
   "source": [
    "def merge_and_average_duplicates(X, Y):\n",
    "    # 将X中的每一行表示为元组，并将这些元组存储在列表中\n",
    "    row_tuples = [tuple(row) for row in X]\n",
    "\n",
    "    # 使用Python的collections.Counter来计算元组的出现次数\n",
    "    row_counts = Counter(row_tuples)\n",
    "\n",
    "    # 创建一个新的数组来存储合并后的X和对应的Y\n",
    "    merged_X = []\n",
    "    merged_Y = []\n",
    "\n",
    "    # 创建一个字典来存储每一行对应的Y的累加和和计数\n",
    "    y_sums = {}\n",
    "    y_counts = {}\n",
    "\n",
    "    # 遍历原始数组，合并X和对应的Y，并计算Y的累加和和计数\n",
    "    for index, (x_row, y_value) in enumerate(zip(X, Y)):\n",
    "        x_tuple = tuple(x_row)\n",
    "        if x_tuple not in y_sums:\n",
    "            y_sums[x_tuple] = y_value\n",
    "            y_counts[x_tuple] = 1\n",
    "        else:\n",
    "            y_sums[x_tuple] += y_value\n",
    "            y_counts[x_tuple] += 1\n",
    "\n",
    "    # 遍历字典，计算平均值，并将结果添加到新数组中\n",
    "    for x_tuple, y_sum in y_sums.items():\n",
    "        count = y_counts[x_tuple]\n",
    "        averaged_y = y_sum / count\n",
    "        merged_X.append(list(x_tuple))\n",
    "        merged_Y.append(averaged_y)\n",
    "\n",
    "    return np.array(merged_X), np.array(merged_Y)"
   ]
  },
  {
   "cell_type": "markdown",
   "id": "be1d5adb",
   "metadata": {},
   "source": [
    "# 导入x值"
   ]
  },
  {
   "cell_type": "code",
   "execution_count": 39,
   "id": "c6692576",
   "metadata": {},
   "outputs": [
    {
     "name": "stdout",
     "output_type": "stream",
     "text": [
      "(841, 132)\n",
      "(841, 11)\n"
     ]
    }
   ],
   "source": [
    "import pandas as pd\n",
    "import os\n",
    "\n",
    "\n",
    "folder_path = r'C:\\Users\\13282\\Desktop\\papercode\\data\\Alloy\\matminner_processed' \n",
    "\n",
    "file_path_1 = os.path.join(folder_path, 'data_mat.xlsx')\n",
    "file_path_2 = os.path.join(folder_path, 'data_exp.xlsx')\n",
    "# 读取data.S1.xlsx和data.S2.xlsx文件\n",
    "df_comp = pd.read_excel(file_path_1)\n",
    "df_exp = pd.read_excel(file_path_2)\n",
    "\n",
    "print(df_comp.shape)\n",
    "print(df_exp.shape)"
   ]
  },
  {
   "cell_type": "code",
   "execution_count": 40,
   "id": "1c8507cd",
   "metadata": {},
   "outputs": [
    {
     "name": "stdout",
     "output_type": "stream",
     "text": [
      "(841, 143)\n"
     ]
    }
   ],
   "source": [
    "combined_data = pd.concat([pd.DataFrame(df_comp), pd.DataFrame(df_exp)], axis=1)\n",
    "\n",
    "\n",
    "combined_data = combined_data.reset_index(drop=True)\n",
    "print(combined_data.shape)"
   ]
  },
  {
   "cell_type": "code",
   "execution_count": 41,
   "id": "1cbfd973",
   "metadata": {},
   "outputs": [
    {
     "name": "stdout",
     "output_type": "stream",
     "text": [
      "(841, 143)\n"
     ]
    }
   ],
   "source": [
    "import numpy as np\n",
    "x_all = np.array(combined_data)\n",
    "\n",
    "labels = list(combined_data.columns)\n",
    "\n",
    "print(x_all.shape)"
   ]
  },
  {
   "cell_type": "markdown",
   "id": "7a079649",
   "metadata": {},
   "source": [
    "# 导入y值"
   ]
  },
  {
   "cell_type": "code",
   "execution_count": 42,
   "id": "2ca8e728",
   "metadata": {},
   "outputs": [
    {
     "name": "stdout",
     "output_type": "stream",
     "text": [
      "(841,)\n"
     ]
    }
   ],
   "source": [
    "import pandas as pd\n",
    "\n",
    "folder_path = r'C:\\Users\\13282\\Desktop\\papercode\\data\\Alloy\\original_processed' \n",
    "\n",
    "file_path_1 = os.path.join(folder_path, 'data.S1_scaled.xlsx')\n",
    "file_path_2 = os.path.join(folder_path, 'data.S2_scaled.xlsx')\n",
    "# 读取data.S1.xlsx和data.S2.xlsx文件\n",
    "df_s1 = pd.read_excel(file_path_1)\n",
    "df_s2 = pd.read_excel(file_path_2)\n",
    "\n",
    "df = pd.concat([df_s1, df_s2], axis=0)\n",
    "df = df.reset_index(drop=True)\n",
    "\n",
    "y_all = df.iloc[:, -1].values\n",
    "print(y_all.shape)"
   ]
  },
  {
   "cell_type": "code",
   "execution_count": 43,
   "id": "dd57111f",
   "metadata": {},
   "outputs": [],
   "source": [
    "y_all_log = np.log(y_all + 1e-10)"
   ]
  },
  {
   "cell_type": "code",
   "execution_count": 44,
   "id": "ee75449e",
   "metadata": {},
   "outputs": [
    {
     "data": {
      "image/png": "[encoded data removed]",
      "text/plain": [
       "<Figure size 720x288 with 2 Axes>"
      ]
     },
     "metadata": {
      "needs_background": "light"
     },
     "output_type": "display_data"
    }
   ],
   "source": [
    "import seaborn as sns\n",
    "import matplotlib.pyplot as plt\n",
    "# 创建一个2x1的子图\n",
    "fig, axes = plt.subplots(1, 2, figsize=(10, 4))\n",
    "\n",
    "# 绘制原始y的分布直方图\n",
    "axes[0].hist(y_all, bins=20, color='blue', edgecolor='black')\n",
    "\n",
    "axes[0].set_xlabel('y', fontsize=18)  # 设置x轴标签的字体大小为16\n",
    "axes[0].set_ylabel('counts', fontsize=18)   # 设置y轴标签的字体大小为16\n",
    "axes[0].yaxis.set_major_locator(plt.MaxNLocator(integer=True))\n",
    "\n",
    "# 绘制对数变换后y的分布直方图\n",
    "axes[1].hist(y_all_log, bins=20, color='blue', edgecolor='black')\n",
    "# sns.histplot(y_log, kde=True, color='blue', ax=axes[1])\n",
    "axes[1].set_xlabel('ln(y)', fontsize=18)  # 设置x轴标签的字体大小为16\n",
    "axes[1].set_ylabel('counts', fontsize=18)  # 设置y轴标签的字体大小为16\n",
    "# 设置纵坐标只显示整数\n",
    "axes[1].yaxis.set_major_locator(plt.MaxNLocator(integer=True))\n",
    "\n",
    "\n",
    "# 获取直方图的频率\n",
    "heights = [p.get_height() for p in axes[1].patches]\n",
    "# 只显示整数值并确保数字不与直方图重叠\n",
    "for i, height in enumerate(heights):\n",
    "    if height.is_integer():  # 检查是否为整数\n",
    "        axes[1].annotate(str(int(height)), (axes[1].patches[i].get_x() + axes[1].patches[i].get_width() / 2, height),\n",
    "                         ha='center', va='bottom', fontsize=10, color='black')\n",
    "\n",
    "\n",
    "plt.tight_layout()  # 调整子图布局以防止重叠\n",
    "plt.show()\n",
    "\n"
   ]
  },
  {
   "cell_type": "markdown",
   "id": "7ea747e6",
   "metadata": {},
   "source": [
    "# 对x进行minmax-pca-minmax"
   ]
  },
  {
   "cell_type": "code",
   "execution_count": 45,
   "id": "2dc5e9ab",
   "metadata": {},
   "outputs": [],
   "source": [
    "from sklearn.preprocessing import MinMaxScaler, StandardScaler\n",
    "\n",
    "\n",
    "min_max_scaler = MinMaxScaler()\n",
    "\n",
    "x_all_normalized = min_max_scaler.fit_transform(x_all)"
   ]
  },
  {
   "cell_type": "code",
   "execution_count": 46,
   "id": "04d10349",
   "metadata": {},
   "outputs": [
    {
     "name": "stdout",
     "output_type": "stream",
     "text": [
      "(841, 9)\n"
     ]
    }
   ],
   "source": [
    "from sklearn.decomposition import PCA    \n",
    "\n",
    "def PCA_dim_select(selected_method, n_dims):\n",
    "    if selected_method == 'auto':\n",
    "        assert type(n_dims) == float\n",
    "        selected_dim = n_dims\n",
    "    elif selected_method == 'assigned':\n",
    "        # assert type(n_dims) == int\n",
    "        selected_dim = int(n_dims)\n",
    "    return selected_dim\n",
    "\n",
    "\n",
    "# pca降维\n",
    "    \n",
    "# pca_dims = 5  \n",
    "# pca = PCA(n_components=PCA_dim_select('assigned', pca_dims))\n",
    "\n",
    "pca_dims = 0.90   # 对于matminer 0.95是17  0.90是16  0.85是14  0.80是13  0.75是12\n",
    "                  # 对于formula  0.95是46   0.75是35  0.5是21  0.3是10\n",
    "pca = PCA(n_components=PCA_dim_select('auto', pca_dims))\n",
    "\n",
    "\n",
    "x_all_scaled_pca = pca.fit_transform(x_all_normalized)\n",
    "\n",
    "\n",
    "\n",
    "print(x_all_scaled_pca.shape)\n",
    "\n"
   ]
  },
  {
   "cell_type": "code",
   "execution_count": 47,
   "id": "42851fac",
   "metadata": {},
   "outputs": [],
   "source": [
    "# 对x_all进行MinMax归一化\n",
    "x_all = x_all_scaled_pca\n",
    "min_max_scaler = MinMaxScaler()\n",
    "x_all_normalized = min_max_scaler.fit_transform(x_all)"
   ]
  },
  {
   "cell_type": "markdown",
   "id": "83ce59ce",
   "metadata": {},
   "source": [
    "# 列数据合并，行数据分离"
   ]
  },
  {
   "cell_type": "code",
   "execution_count": 48,
   "id": "d6fc63d1",
   "metadata": {},
   "outputs": [
    {
     "name": "stdout",
     "output_type": "stream",
     "text": [
      "(841, 10)\n"
     ]
    }
   ],
   "source": [
    "columns = [f'x{i+1}' for i in range(x_all.shape[1])]\n",
    "df_x = pd.DataFrame(x_all, columns=columns)\n",
    "\n",
    "# columns = [f'x{i+1}' for i in range(x_all_normalized.shape[1])]\n",
    "# df_x = pd.DataFrame(x_all_normalized, columns=columns)\n",
    "df_y = pd.DataFrame(y_all_log, columns=['y_log'])\n",
    "\n",
    "final_data = pd.concat([df_x, df_y], axis=1)\n",
    "\n",
    "final_data = final_data.reset_index(drop=True)\n",
    "\n",
    "print(final_data.shape)\n",
    "\n"
   ]
  },
  {
   "cell_type": "code",
   "execution_count": 12,
   "id": "8d87008b",
   "metadata": {},
   "outputs": [
    {
     "name": "stdout",
     "output_type": "stream",
     "text": [
      "(753, 144)\n",
      "(88, 144)\n"
     ]
    }
   ],
   "source": [
    "# 将合并后的数据拆分回原来的两个数据库\n",
    "df_s1_scaled = final_data.iloc[:len(df_s1), :]\n",
    "df_s2_scaled = final_data.iloc[len(df_s1):, :]\n",
    "\n",
    "print(df_s1_scaled.shape)\n",
    "print(df_s2_scaled.shape)"
   ]
  },
  {
   "cell_type": "markdown",
   "id": "f3659b9b",
   "metadata": {},
   "source": [
    "# 根据成分对源数据集再划分"
   ]
  },
  {
   "cell_type": "code",
   "execution_count": 57,
   "id": "972134c3",
   "metadata": {},
   "outputs": [],
   "source": [
    "fe_data = df_s1_scaled.iloc[:72, :]\n",
    "oth_data = df_s1_scaled.iloc[72:173, :]\n",
    "co_data = df_s1_scaled.iloc[173:211, :]\n",
    "ni_data = df_s1_scaled.iloc[211:753, :]"
   ]
  },
  {
   "cell_type": "code",
   "execution_count": 58,
   "id": "6c550521",
   "metadata": {},
   "outputs": [
    {
     "name": "stdout",
     "output_type": "stream",
     "text": [
      "(72, 10)\n"
     ]
    }
   ],
   "source": [
    "print(fe_data.shape)"
   ]
  },
  {
   "cell_type": "markdown",
   "id": "76370b07",
   "metadata": {},
   "source": [
    "# ni合金数据去重"
   ]
  },
  {
   "cell_type": "code",
   "execution_count": 60,
   "id": "c68a03e8",
   "metadata": {},
   "outputs": [
    {
     "name": "stdout",
     "output_type": "stream",
     "text": [
      "(542, 9)\n",
      "(542,)\n"
     ]
    }
   ],
   "source": [
    "x_exp = ni_data.iloc[:, :-1].values  # 假设编号列是第0列，x列从第2列到倒数第二列\n",
    "y_exp = ni_data.iloc[:, -1].values  # 最后一列作为y\n",
    "print(x_exp.shape)\n",
    "print(y_exp.shape)"
   ]
  },
  {
   "cell_type": "code",
   "execution_count": 61,
   "id": "1defffc8",
   "metadata": {},
   "outputs": [],
   "source": [
    "from collections import Counter\n",
    "\n",
    "def find_duplicate_rows(X):\n",
    "    Z = X\n",
    "    # 将数组中的每一行表示为元组，并将这些元组存储在列表中\n",
    "    row_tuples = [tuple(row) for row in Z]\n",
    "\n",
    "    # 使用Python的collections.Counter来计算元组的出现次数\n",
    "    row_counts = Counter(row_tuples)\n",
    "\n",
    "    # 初始化总的重复次数\n",
    "    total_duplicate_count = 0\n",
    "\n",
    "    # 创建一个集合来存储已经计数过的行\n",
    "    counted_rows = set()\n",
    "\n",
    "    # 打印重复行的行号（索引）和它们的重复次数，并计算总的重复次数\n",
    "    for index, row in enumerate(Z):\n",
    "        row_tuple = tuple(row)\n",
    "        if row_tuple not in counted_rows:\n",
    "            count = row_counts[row_tuple]\n",
    "            if count > 1:\n",
    "                duplicate_indices = [i for i, r in enumerate(Z) if tuple(r) == row_tuple]\n",
    "                print(f\"行 {index} 重复了 {count} 次，与行 {duplicate_indices} 重复\")\n",
    "                total_duplicate_count += count\n",
    "            counted_rows.add(row_tuple)  # 将该行添加到已计数的行集合中\n",
    "\n",
    "    # 打印总的重复次数\n",
    "    print(f\"总的重复次数为: {total_duplicate_count}\")\n",
    "\n",
    "    # 初始化总的不同重复行数\n",
    "    total_unique_duplicate_count = 0\n",
    "\n",
    "    # 创建一个集合来存储已经计数过的行\n",
    "    counted_rows = set()\n",
    "\n",
    "    # 计算不同的重复行数\n",
    "    for row_tuple, count in row_counts.items():\n",
    "        if count > 1:\n",
    "            total_unique_duplicate_count += 1\n",
    "            counted_rows.add(row_tuple)\n",
    "\n",
    "    # 打印总的不同重复行数\n",
    "    print(f\"总的不同重复行数为: {total_unique_duplicate_count}\")"
   ]
  },
  {
   "cell_type": "code",
   "execution_count": 62,
   "id": "25d5b33a",
   "metadata": {},
   "outputs": [
    {
     "name": "stdout",
     "output_type": "stream",
     "text": [
      "行 339 重复了 2 次，与行 [339, 342] 重复\n",
      "行 348 重复了 2 次，与行 [348, 355] 重复\n",
      "行 400 重复了 2 次，与行 [400, 535] 重复\n",
      "行 414 重复了 2 次，与行 [414, 536] 重复\n",
      "行 424 重复了 2 次，与行 [424, 537] 重复\n",
      "行 454 重复了 2 次，与行 [454, 534] 重复\n",
      "总的重复次数为: 12\n",
      "总的不同重复行数为: 6\n"
     ]
    }
   ],
   "source": [
    "find_duplicate_rows(x_exp)"
   ]
  },
  {
   "cell_type": "code",
   "execution_count": 63,
   "id": "1bba5670",
   "metadata": {},
   "outputs": [
    {
     "name": "stdout",
     "output_type": "stream",
     "text": [
      "(536, 9) (542, 9)\n",
      "(536,) (542,)\n"
     ]
    }
   ],
   "source": [
    "\n",
    "\n",
    "# 使用示例\n",
    "X_exp, Y_exp = merge_and_average_duplicates(x_exp, y_exp)\n",
    "\n",
    "print(X_exp.shape,x_exp.shape )\n",
    "print(Y_exp.shape,y_exp.shape)"
   ]
  },
  {
   "cell_type": "code",
   "execution_count": 64,
   "id": "8d0e11fe",
   "metadata": {},
   "outputs": [
    {
     "name": "stdout",
     "output_type": "stream",
     "text": [
      "总的重复次数为: 0\n",
      "总的不同重复行数为: 0\n"
     ]
    }
   ],
   "source": [
    "find_duplicate_rows(X_exp)"
   ]
  },
  {
   "cell_type": "code",
   "execution_count": 65,
   "id": "2d7445b0",
   "metadata": {},
   "outputs": [],
   "source": [
    "\n",
    "ni_x = pd.DataFrame(X_exp, columns=columns)\n",
    "ni_y = pd.DataFrame(Y_exp, columns=['y_log'])\n",
    "\n",
    "ni_data = pd.concat([ni_x, ni_y], axis=1)"
   ]
  },
  {
   "cell_type": "markdown",
   "id": "2a55e037",
   "metadata": {},
   "source": [
    "# 保存为文件"
   ]
  },
  {
   "cell_type": "code",
   "execution_count": 59,
   "id": "620bcaa8",
   "metadata": {},
   "outputs": [],
   "source": [
    "fe_data.to_excel('Fe.xlsx', index=False)\n",
    "oth_data.to_excel('others.xlsx', index=False)\n",
    "co_data.to_excel('Co.xlsx', index=False)\n",
    "ni_data.to_excel('Ni.xlsx', index=False)\n",
    "df_s2_scaled.to_excel('Ti.xlsx', index=False)"
   ]
  },
  {
   "cell_type": "code",
   "execution_count": null,
   "id": "64002942",
   "metadata": {},
   "outputs": [],
   "source": []
  },
  {
   "cell_type": "code",
   "execution_count": null,
   "id": "4f2c62f5",
   "metadata": {},
   "outputs": [],
   "source": []
  },
  {
   "cell_type": "markdown",
   "id": "f3fc7800",
   "metadata": {},
   "source": [
    "# 单个数据集处理"
   ]
  },
  {
   "cell_type": "code",
   "execution_count": 49,
   "id": "d3cb1e5e",
   "metadata": {},
   "outputs": [],
   "source": [
    "merged_df = final_data"
   ]
  },
  {
   "cell_type": "code",
   "execution_count": 50,
   "id": "a407ff11",
   "metadata": {},
   "outputs": [
    {
     "name": "stdout",
     "output_type": "stream",
     "text": [
      "(841, 9)\n",
      "(841,)\n"
     ]
    }
   ],
   "source": [
    "\n",
    "\n",
    "x_exp = merged_df.iloc[:, :-1].values  # 假设编号列是第0列，x列从第2列到倒数第二列\n",
    "y_exp = merged_df.iloc[:, -1].values  # 最后一列作为y\n",
    "print(x_exp.shape)\n",
    "print(y_exp.shape)"
   ]
  },
  {
   "cell_type": "markdown",
   "id": "a009435e",
   "metadata": {},
   "source": [
    "# 查重和去重"
   ]
  },
  {
   "cell_type": "code",
   "execution_count": 51,
   "id": "b69388db",
   "metadata": {},
   "outputs": [
    {
     "name": "stdout",
     "output_type": "stream",
     "text": [
      "行 550 重复了 2 次，与行 [550, 553] 重复\n",
      "行 559 重复了 2 次，与行 [559, 566] 重复\n",
      "行 611 重复了 2 次，与行 [611, 746] 重复\n",
      "行 625 重复了 2 次，与行 [625, 747] 重复\n",
      "行 635 重复了 2 次，与行 [635, 748] 重复\n",
      "行 665 重复了 2 次，与行 [665, 745] 重复\n",
      "总的重复次数为: 12\n",
      "总的不同重复行数为: 6\n"
     ]
    }
   ],
   "source": [
    "find_duplicate_rows(x_exp)"
   ]
  },
  {
   "cell_type": "code",
   "execution_count": 55,
   "id": "bee304b6",
   "metadata": {},
   "outputs": [
    {
     "name": "stdout",
     "output_type": "stream",
     "text": [
      "(835, 9)\n",
      "(835,)\n",
      "总的重复次数为: 0\n",
      "总的不同重复行数为: 0\n"
     ]
    }
   ],
   "source": [
    "# 使用示例\n",
    "x_exp, y_exp = merge_and_average_duplicates(x_exp, y_exp)\n",
    "\n",
    "print(x_exp.shape)\n",
    "print(y_exp.shape)\n",
    "\n",
    "find_duplicate_rows(x_exp)"
   ]
  },
  {
   "cell_type": "code",
   "execution_count": 53,
   "id": "ea609066",
   "metadata": {},
   "outputs": [],
   "source": [
    "from sklearn.preprocessing import MinMaxScaler\n",
    "\n",
    "scaler = MinMaxScaler()\n",
    "\n",
    "x_exp_mm = scaler.fit_transform(x_exp)\n",
    "# x_exp_mm = scaler.fit_transform(x_exp_1)\n",
    "\n"
   ]
  },
  {
   "cell_type": "code",
   "execution_count": 54,
   "id": "1e827c4e",
   "metadata": {},
   "outputs": [
    {
     "name": "stdout",
     "output_type": "stream",
     "text": [
      "(835, 8)\n"
     ]
    }
   ],
   "source": [
    "from sklearn.decomposition import PCA\n",
    "\n",
    "def PCA_dim_select(selected_method, n_dims):\n",
    "    if selected_method == 'auto':\n",
    "        assert type(n_dims) == float\n",
    "        selected_dim = n_dims\n",
    "    elif selected_method == 'assigned':\n",
    "        # assert type(n_dims) == int\n",
    "        selected_dim = int(n_dims)\n",
    "    return selected_dim\n",
    "\n",
    "pca_dims = 0.90\n",
    "pca = PCA(n_components=PCA_dim_select('auto', pca_dims))\n",
    "\n",
    "x_exp_mm_pca = pca.fit_transform(x_exp_mm)\n",
    "print(x_exp_mm_pca.shape)"
   ]
  },
  {
   "cell_type": "code",
   "execution_count": 28,
   "id": "3f65b83e",
   "metadata": {},
   "outputs": [],
   "source": [
    "scaler1 = MinMaxScaler()\n",
    "x_exp_mm_pca_mm = scaler1.fit_transform(x_exp_mm_pca)"
   ]
  },
  {
   "cell_type": "code",
   "execution_count": 29,
   "id": "fe5463e8",
   "metadata": {},
   "outputs": [
    {
     "name": "stdout",
     "output_type": "stream",
     "text": [
      "(747, 1)\n"
     ]
    }
   ],
   "source": [
    "y_exp_1 = y_exp.reshape(-1,1)\n",
    "print(y_exp_1.shape)"
   ]
  },
  {
   "cell_type": "code",
   "execution_count": 57,
   "id": "ee74ea36",
   "metadata": {},
   "outputs": [
    {
     "name": "stdout",
     "output_type": "stream",
     "text": [
      "(835, 9) (835,)\n"
     ]
    }
   ],
   "source": [
    "# X_all = x_exp_mm_pca_mm\n",
    "# Y_all = y_exp_1\n",
    "\n",
    "# print(X_all.shape,Y_all.shape)\n",
    "\n",
    "X_all = x_exp\n",
    "Y_all = y_exp\n",
    "\n",
    "print(X_all.shape,Y_all.shape)"
   ]
  },
  {
   "cell_type": "code",
   "execution_count": 58,
   "id": "0815a166",
   "metadata": {},
   "outputs": [
    {
     "name": "stdout",
     "output_type": "stream",
     "text": [
      "nan 的索引: []\n",
      "(835, 9) (835,)\n"
     ]
    }
   ],
   "source": [
    "#去除存在nan的点\n",
    "nan_indices = np.isnan(Y_all)\n",
    "true_indices = np.where(nan_indices)[0]\n",
    "print(\"nan 的索引:\", true_indices)\n",
    "\n",
    "X_all = X_all[~nan_indices.flatten()]\n",
    "Y_all = Y_all[~nan_indices.flatten()]\n",
    "\n",
    "print(X_all.shape,Y_all.shape)"
   ]
  },
  {
   "cell_type": "code",
   "execution_count": 59,
   "id": "bfaa7bf7",
   "metadata": {},
   "outputs": [],
   "source": [
    "# 单个保存\n",
    "columns = [f'x{i+1}' for i in range(X_all.shape[1])]\n",
    "x_df = pd.DataFrame(X_all, columns=columns)\n",
    "\n",
    "y_df = pd.DataFrame(Y_all, columns=['logy'])\n",
    "\n",
    "merged_data = pd.concat([x_df, y_df], axis=1)\n",
    "merged_data.to_excel('all_data.xlsx', index=False)"
   ]
  },
  {
   "cell_type": "code",
   "execution_count": null,
   "id": "424ddaed",
   "metadata": {},
   "outputs": [],
   "source": []
  },
  {
   "cell_type": "code",
   "execution_count": null,
   "id": "05d0dc18",
   "metadata": {},
   "outputs": [],
   "source": []
  },
  {
   "cell_type": "code",
   "execution_count": null,
   "id": "ae6a2386",
   "metadata": {},
   "outputs": [],
   "source": []
  },
  {
   "cell_type": "code",
   "execution_count": null,
   "id": "35ecc15b",
   "metadata": {},
   "outputs": [],
   "source": []
  }
 ],
 "metadata": {
  "kernelspec": {
   "display_name": "Python 3",
   "language": "python",
   "name": "python3"
  },
  "language_info": {
   "codemirror_mode": {
    "name": "ipython",
    "version": 3
   },
   "file_extension": ".py",
   "mimetype": "text/x-python",
   "name": "python",
   "nbconvert_exporter": "python",
   "pygments_lexer": "ipython3",
   "version": "3.8.8"
  }
 },
 "nbformat": 4,
 "nbformat_minor": 5
}
