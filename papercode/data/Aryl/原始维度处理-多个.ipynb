{
 "cells": [
  {
   "cell_type": "code",
   "execution_count": 1,
   "id": "c469fc86",
   "metadata": {},
   "outputs": [],
   "source": [
    "import numpy as np\n",
    "import pandas as pd\n",
    "import matplotlib.pyplot as plt"
   ]
  },
  {
   "cell_type": "code",
   "execution_count": 2,
   "id": "a71fd916",
   "metadata": {},
   "outputs": [],
   "source": [
    "from collections import Counter\n",
    "\n",
    "def find_duplicate_rows(X):\n",
    "    Z = X\n",
    "    # 将数组中的每一行表示为元组，并将这些元组存储在列表中\n",
    "    row_tuples = [tuple(row) for row in Z]\n",
    "\n",
    "    # 使用Python的collections.Counter来计算元组的出现次数\n",
    "    row_counts = Counter(row_tuples)\n",
    "\n",
    "    # 初始化总的重复次数\n",
    "    total_duplicate_count = 0\n",
    "\n",
    "    # 创建一个集合来存储已经计数过的行\n",
    "    counted_rows = set()\n",
    "\n",
    "    # 打印重复行的行号（索引）和它们的重复次数，并计算总的重复次数\n",
    "    for index, row in enumerate(Z):\n",
    "        row_tuple = tuple(row)\n",
    "        if row_tuple not in counted_rows:\n",
    "            count = row_counts[row_tuple]\n",
    "            if count > 1:\n",
    "                duplicate_indices = [i for i, r in enumerate(Z) if tuple(r) == row_tuple]\n",
    "                print(f\"行 {index} 重复了 {count} 次，与行 {duplicate_indices} 重复\")\n",
    "                total_duplicate_count += count\n",
    "            counted_rows.add(row_tuple)  # 将该行添加到已计数的行集合中\n",
    "\n",
    "    # 打印总的重复次数\n",
    "    print(f\"总的重复次数为: {total_duplicate_count}\")\n",
    "\n",
    "    # 初始化总的不同重复行数\n",
    "    total_unique_duplicate_count = 0\n",
    "\n",
    "    # 创建一个集合来存储已经计数过的行\n",
    "    counted_rows = set()\n",
    "\n",
    "    # 计算不同的重复行数\n",
    "    for row_tuple, count in row_counts.items():\n",
    "        if count > 1:\n",
    "            total_unique_duplicate_count += 1\n",
    "            counted_rows.add(row_tuple)\n",
    "\n",
    "    # 打印总的不同重复行数\n",
    "    print(f\"总的不同重复行数为: {total_unique_duplicate_count}\")"
   ]
  },
  {
   "cell_type": "markdown",
   "id": "bc3a6708",
   "metadata": {},
   "source": [
    "# 导入数据"
   ]
  },
  {
   "cell_type": "code",
   "execution_count": 3,
   "id": "d18c5a04",
   "metadata": {},
   "outputs": [],
   "source": [
    "import pandas as pd\n",
    "\n",
    "folder_path = \"original_data/\"\n",
    "\n",
    "df_s1 = pd.read_csv(folder_path + 'aryl-1.csv', encoding='utf-8', header=None)\n",
    "df_s2 = pd.read_csv(folder_path + 'aryl-2.csv', encoding='utf-8', header=None)\n",
    "df_s5 = pd.read_csv(folder_path + 'aryl-5.csv', encoding='utf-8', header=None)\n",
    "df_s11 = pd.read_csv(folder_path + 'aryl-11.csv', encoding='utf-8', header=None)"
   ]
  },
  {
   "cell_type": "code",
   "execution_count": 4,
   "id": "c0d0a362",
   "metadata": {},
   "outputs": [
    {
     "name": "stdout",
     "output_type": "stream",
     "text": [
      "(264, 121) (264, 121) (264, 121) (264, 121)\n"
     ]
    }
   ],
   "source": [
    "print(df_s1.shape,df_s2.shape,df_s5.shape,df_s11.shape)"
   ]
  },
  {
   "cell_type": "markdown",
   "id": "bb3dc266",
   "metadata": {},
   "source": [
    "# 数据合并"
   ]
  },
  {
   "cell_type": "code",
   "execution_count": 5,
   "id": "1bf3c30b",
   "metadata": {},
   "outputs": [
    {
     "name": "stdout",
     "output_type": "stream",
     "text": [
      "(1056, 121)\n"
     ]
    }
   ],
   "source": [
    "merged_df = pd.concat([df_s1, df_s2, df_s5, df_s11], axis=0)\n",
    "print(merged_df.shape)"
   ]
  },
  {
   "cell_type": "code",
   "execution_count": 6,
   "id": "6897273e",
   "metadata": {},
   "outputs": [
    {
     "name": "stdout",
     "output_type": "stream",
     "text": [
      "(1056, 95)\n"
     ]
    }
   ],
   "source": [
    "# 删除第20列到第46列   #去除芳香卤卤化物的描述符\n",
    "columns_to_drop = merged_df.columns[19:45]  \n",
    "merged_df = merged_df.drop(columns=columns_to_drop, axis=1)\n",
    "print(merged_df.shape)"
   ]
  },
  {
   "cell_type": "code",
   "execution_count": 7,
   "id": "f134c8f3",
   "metadata": {},
   "outputs": [
    {
     "name": "stdout",
     "output_type": "stream",
     "text": [
      "(1056, 94)\n",
      "(1056,)\n"
     ]
    }
   ],
   "source": [
    "x_exp = merged_df.iloc[:, :-1].values  # 假设编号列是第0列，x列从第2列到倒数第二列\n",
    "y_exp = merged_df.iloc[:, -1].values  # 最后一列作为y\n",
    "print(x_exp.shape)\n",
    "print(y_exp.shape)"
   ]
  },
  {
   "cell_type": "markdown",
   "id": "9c9bf74b",
   "metadata": {},
   "source": [
    "# 对x进行minmax+pca+minmax"
   ]
  },
  {
   "cell_type": "code",
   "execution_count": 8,
   "id": "08248827",
   "metadata": {},
   "outputs": [],
   "source": [
    "from sklearn.preprocessing import MinMaxScaler\n",
    "\n",
    "scaler = MinMaxScaler()\n",
    "\n",
    "x_exp_mm = scaler.fit_transform(x_exp)"
   ]
  },
  {
   "cell_type": "code",
   "execution_count": 9,
   "id": "460f83b2",
   "metadata": {},
   "outputs": [
    {
     "name": "stdout",
     "output_type": "stream",
     "text": [
      "(1056, 8)\n"
     ]
    }
   ],
   "source": [
    "from sklearn.decomposition import PCA\n",
    "\n",
    "def PCA_dim_select(selected_method, n_dims):\n",
    "    if selected_method == 'auto':\n",
    "        assert type(n_dims) == float\n",
    "        selected_dim = n_dims\n",
    "    elif selected_method == 'assigned':\n",
    "        # assert type(n_dims) == int\n",
    "        selected_dim = int(n_dims)\n",
    "    return selected_dim\n",
    "\n",
    "pca_dims = 0.95\n",
    "pca = PCA(n_components=PCA_dim_select('auto', pca_dims))\n",
    "\n",
    "x_exp_mm_pca = pca.fit_transform(x_exp_mm)\n",
    "print(x_exp_mm_pca.shape)"
   ]
  },
  {
   "cell_type": "code",
   "execution_count": 10,
   "id": "d4dd1978",
   "metadata": {},
   "outputs": [],
   "source": [
    "scaler1 = MinMaxScaler()\n",
    "x_exp_mm_pca_mm = scaler1.fit_transform(x_exp_mm_pca)"
   ]
  },
  {
   "cell_type": "markdown",
   "id": "6a9c331d",
   "metadata": {},
   "source": [
    "# 检查y是否需要处理"
   ]
  },
  {
   "cell_type": "code",
   "execution_count": 18,
   "id": "f5061d71",
   "metadata": {},
   "outputs": [
    {
     "name": "stdout",
     "output_type": "stream",
     "text": [
      "True 的索引: [317]\n"
     ]
    }
   ],
   "source": [
    "#去除存在nan的点\n",
    "nan_indices = np.isnan(y_exp)\n",
    "# X = X[~nan_indices.flatten()]\n",
    "# Y = Y[~nan_indices.flatten()]\n",
    "\n",
    "true_indices = np.where(nan_indices)[0]\n",
    "print(\"True 的索引:\", true_indices)"
   ]
  },
  {
   "cell_type": "code",
   "execution_count": 14,
   "id": "6766e598",
   "metadata": {},
   "outputs": [],
   "source": [
    "y_log = np.log(y_exp + 1e-10)"
   ]
  },
  {
   "cell_type": "code",
   "execution_count": 15,
   "id": "d0a2c412",
   "metadata": {},
   "outputs": [
    {
     "data": {
      "image/png": "[encoded data removed]",
      "text/plain": [
       "<Figure size 720x288 with 2 Axes>"
      ]
     },
     "metadata": {
      "needs_background": "light"
     },
     "output_type": "display_data"
    }
   ],
   "source": [
    "import seaborn as sns\n",
    "import matplotlib.pyplot as plt\n",
    "\n",
    "fig, axes = plt.subplots(1, 2, figsize=(10, 4))\n",
    "sns.histplot(y_exp, kde=True, color='blue', ax=axes[0])\n",
    "axes[0].set_xlabel('y value', fontsize=18)  \n",
    "axes[0].set_ylabel('counts', fontsize=18)   \n",
    "\n",
    "sns.histplot(y_log, kde=True, color='blue', ax=axes[1])\n",
    "axes[1].set_xlabel('ln(y) normalized value', fontsize=18)  \n",
    "axes[1].set_ylabel('counts', fontsize=18)  \n",
    "axes[1].yaxis.set_major_locator(plt.MaxNLocator(integer=True))\n",
    "\n",
    "heights = [p.get_height() for p in axes[1].patches]\n",
    "for i, height in enumerate(heights):\n",
    "    if height.is_integer():  \n",
    "        axes[1].annotate(str(int(height)), (axes[1].patches[i].get_x() + axes[1].patches[i].get_width() / 2, height),\n",
    "                         ha='center', va='bottom', fontsize=10, color='black')\n",
    "\n",
    "plt.tight_layout()\n",
    "plt.show()"
   ]
  },
  {
   "cell_type": "markdown",
   "id": "5f8d1e51",
   "metadata": {},
   "source": [
    "# x与y合并为数据集"
   ]
  },
  {
   "cell_type": "code",
   "execution_count": 19,
   "id": "e998c7a6",
   "metadata": {},
   "outputs": [],
   "source": [
    "columns = [f'x{i+1}' for i in range(x_exp_mm_pca_mm.shape[1])]\n",
    "x_df = pd.DataFrame(x_exp_mm_pca_mm, columns=columns)\n",
    "y_df = pd.DataFrame(y_exp, columns=['y'])\n",
    "merged_data = pd.concat([x_df, y_df], axis=1)\n",
    "merged_data.to_excel('original_processed/merged_data.xlsx', index=False)"
   ]
  },
  {
   "cell_type": "markdown",
   "id": "6416931d",
   "metadata": {},
   "source": [
    "# 数据划分为原始大小"
   ]
  },
  {
   "cell_type": "code",
   "execution_count": 21,
   "id": "03518a3a",
   "metadata": {},
   "outputs": [
    {
     "name": "stdout",
     "output_type": "stream",
     "text": [
      "(264, 9) (264, 9) (264, 9) (264, 9)\n"
     ]
    }
   ],
   "source": [
    "# 根据原来的大小划分数据\n",
    "df_s1_cleaned = merged_data.iloc[:len(df_s1), :]\n",
    "df_s2_cleaned = merged_data.iloc[len(df_s1):len(df_s1) + len(df_s2), :]\n",
    "df_s5_cleaned = merged_data.iloc[len(df_s1) + len(df_s2):len(df_s1) + len(df_s2) + len(df_s5), :]\n",
    "df_s11_cleaned = merged_data.iloc[len(df_s1) + len(df_s2) + len(df_s5):, :]\n",
    "\n",
    "print(df_s1_cleaned.shape,df_s2_cleaned.shape,df_s5_cleaned.shape,df_s11_cleaned.shape)\n",
    "\n",
    "# 指定保存路径\n",
    "output_folder_path = \"original_processed/\"\n",
    "\n",
    "# 保存为 Excel 文件\n",
    "df_s1_cleaned.to_excel(output_folder_path + 'aryl-1.xlsx', index=False, header=False)\n",
    "df_s2_cleaned.to_excel(output_folder_path + 'aryl-2.xlsx', index=False, header=False)\n",
    "df_s5_cleaned.to_excel(output_folder_path + 'aryl-5.xlsx', index=False, header=False)\n",
    "df_s11_cleaned.to_excel(output_folder_path + 'aryl-11.xlsx', index=False, header=False)"
   ]
  },
  {
   "cell_type": "code",
   "execution_count": null,
   "id": "6de89289",
   "metadata": {},
   "outputs": [],
   "source": []
  },
  {
   "cell_type": "code",
   "execution_count": null,
   "id": "c44252d3",
   "metadata": {},
   "outputs": [],
   "source": []
  }
 ],
 "metadata": {
  "kernelspec": {
   "display_name": "Python 3",
   "language": "python",
   "name": "python3"
  },
  "language_info": {
   "codemirror_mode": {
    "name": "ipython",
    "version": 3
   },
   "file_extension": ".py",
   "mimetype": "text/x-python",
   "name": "python",
   "nbconvert_exporter": "python",
   "pygments_lexer": "ipython3",
   "version": "3.8.8"
  }
 },
 "nbformat": 4,
 "nbformat_minor": 5
}
