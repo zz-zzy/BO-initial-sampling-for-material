{
 "cells": [
  {
   "cell_type": "code",
   "execution_count": 22,
   "id": "bc236e20",
   "metadata": {},
   "outputs": [],
   "source": [
    "import numpy as np\n",
    "import pandas as pd\n",
    "import matplotlib.pyplot as plt\n",
    "import copy\n",
    "\n",
    "# import emukit\n",
    "import GPy\n",
    "# from emukit.core import ParameterSpace, ContinuousParameter, DiscreteParameter\n",
    "# from emukit.core.initial_designs.random_design import RandomDesign\n",
    "# from emukit.core.initial_designs.latin_design import LatinDesign\n",
    "from GPy.models import GPRegression\n",
    "from emukit.model_wrappers import GPyModelWrapper\n",
    "\n",
    "# from emukit.bayesian_optimization.loops import BayesianOptimizationLoop\n",
    "from emukit.bayesian_optimization.acquisitions import ExpectedImprovement, \\\n",
    "                                                      NegativeLowerConfidenceBound, \\\n",
    "                                                      MaxValueEntropySearch, \\\n",
    "                                                      ProbabilityOfImprovement\n",
    "# from emukit.core.acquisition import IntegratedHyperParameterAcquisition\n",
    "\n",
    "from rgpe import compute_rank_weights"
   ]
  },
  {
   "cell_type": "code",
   "execution_count": 23,
   "id": "1ed0a141",
   "metadata": {},
   "outputs": [],
   "source": [
    "\n",
    "import numpy as np\n",
    "from scipy.spatial.distance import cdist\n",
    "from emukit.core.initial_designs.latin_design import LatinDesign\n",
    "\n",
    "def find_y_by_x(x_input, X_all, Y_all):  #一通过x找到对应的y的函数\n",
    "    # 确保 x_input 是一个二维数组\n",
    "    if len(x_input.shape) == 1:\n",
    "        x_input = x_input.reshape(1, -1)\n",
    "\n",
    "    # 初始化一个列表来存储所有结果\n",
    "    all_results = []\n",
    "\n",
    "    # 遍历 x_input 中的每个特征向量\n",
    "    for x in x_input:\n",
    "        # 使用 NumPy 的函数 argwhere 来查找 x 在 X 中的位置\n",
    "        indices = np.argwhere(np.all(X_all == x, axis=1))\n",
    "\n",
    "        # 初始化一个列表来存储匹配的 Y 值\n",
    "        matching_y_values = []\n",
    "\n",
    "        # 遍历匹配的位置\n",
    "        for index in indices:\n",
    "            match_index = index[0]\n",
    "            matching_y_values.append(Y_all[match_index])\n",
    "\n",
    "        all_results.append(matching_y_values)\n",
    "    \n",
    "    all_results = np.array(all_results)\n",
    "    return all_results\n",
    "\n",
    "def x_normalizer(X, var_array):\n",
    "    \n",
    "    def max_min_scaler(x, x_max, x_min):\n",
    "        return (x-x_min)/(x_max-x_min)\n",
    "    x_norm = []\n",
    "    for x in (X):\n",
    "           x_norm.append([max_min_scaler(x[i], \n",
    "                                         max(var_array[i]), \n",
    "                                         min(var_array[i])) for i in range(len(x))])\n",
    "            \n",
    "    return x_norm\n",
    "\n",
    "def x_denormalizer(x_norm, var_array):\n",
    "    \n",
    "    def max_min_rescaler(x, x_max, x_min):\n",
    "        return x*(x_max-x_min)+x_min\n",
    "    x_original = []\n",
    "    for x in (x_norm):\n",
    "           x_original.append([max_min_rescaler(x[i], \n",
    "                                         max(var_array[i]), \n",
    "                                         min(var_array[i])) for i in range(len(x))])\n",
    "            \n",
    "    return x_original\n",
    "\n",
    "\n",
    "\n",
    "\n",
    "# def get_closest_array(x_init, X_all):\n",
    "#     # 计算 x_init 中每个点与 X_all 中所有点之间的距离\n",
    "#     distances = cdist(x_init, X_all)   \n",
    "#     # 找到每个点最近的索引\n",
    "#     closest_indices = np.argmin(distances, axis=1)    \n",
    "#     # 根据索引获取最近的点\n",
    "#     closest_array = X_all[closest_indices]  \n",
    "#     return closest_array\n",
    "\n",
    "def get_closest_array(x_init, X_all):\n",
    "    X_all_copy = X_all.copy()\n",
    "    closest_array = []\n",
    "    \n",
    "    for x in x_init:\n",
    "        # 计算 x 与 X_all_copy 中所有点之间的距离\n",
    "        distances = cdist([x], X_all_copy)[0]\n",
    "        # 找到最近的索引\n",
    "        closest_index = np.argmin(distances)\n",
    "        # 根据索引获取最近的点\n",
    "        closest_point = X_all_copy[closest_index]\n",
    "        # 将最近的点添加到结果数组中\n",
    "        closest_array.append(closest_point)\n",
    "        # 从 X_all_copy 中移除这个点\n",
    "        X_all_copy = np.delete(X_all_copy, closest_index, axis=0)\n",
    "        \n",
    "    return np.array(closest_array)\n",
    "\n",
    "\n",
    "# # 计算两个点之间的欧几里得距离\n",
    "# def euclidean_distance(point1, point2):\n",
    "#     return np.sqrt(np.sum((point1 - point2) ** 2))\n",
    "\n",
    "# # 找到X_all中与x_init每个元素最近的点\n",
    "# def get_closest_array(x_init, X_all):\n",
    "#     closest_array = []\n",
    "#     for point in x_init:\n",
    "#         distances = np.array([euclidean_distance(point, x) for x in X_all])\n",
    "#         closest_idx = distances.argmin()\n",
    "#         closest_array.append(X_all[closest_idx])\n",
    "#     return np.array(closest_array)\n",
    "\n",
    "def create_latin_design(X_all):\n",
    " \n",
    "    x_array = [X_all[:, i] for i in range(X_all.shape[1])]\n",
    "    \n",
    "    num_columns = X_all.shape[1]\n",
    "    parameter_space = ParameterSpace([ContinuousParameter(f'x{i+1}', 0, 1) for i in range(num_columns)])\n",
    "    design = LatinDesign(parameter_space)\n",
    "    \n",
    "    return x_array , design\n",
    "\n"
   ]
  },
  {
   "cell_type": "markdown",
   "id": "606a9779",
   "metadata": {},
   "source": [
    "# 导入目标任务"
   ]
  },
  {
   "cell_type": "code",
   "execution_count": 24,
   "id": "a4150def",
   "metadata": {},
   "outputs": [
    {
     "name": "stdout",
     "output_type": "stream",
     "text": [
      "(264, 9)\n",
      "(264, 8) (264,)\n"
     ]
    }
   ],
   "source": [
    "import pandas as pd\n",
    "import numpy as np\n",
    "import os\n",
    "\n",
    "# folder_path = r'C:\\Users\\13282\\Desktop\\papercode\\data\\Goldstein' \n",
    "# file_path = os.path.join(folder_path, 'goldstein_data.xlsx')\n",
    "\n",
    "# folder_path = r'C:\\Users\\13282\\Desktop\\papercode\\data\\Alloy\\matminner_processed' \n",
    "# file_path = os.path.join(folder_path, 'Ti.xlsx')  # y 记得加负号 ，如果需要原始值，需要反log回去\n",
    "\n",
    "folder_path = r'C:\\Users\\13282\\Desktop\\papercode\\data\\Aryl\\original_processed' \n",
    "file_path = os.path.join(folder_path, 'aryl-15.xlsx')  # y 记得加负号 \n",
    "\n",
    "\n",
    "df = pd.read_excel(file_path)\n",
    "\n",
    "#去除存在nan的点\n",
    "# nan_indices = np.isnan(Y)\n",
    "# X = X[~nan_indices.flatten()]\n",
    "# Y = Y[~nan_indices.flatten()]\n",
    "print(df.shape)\n",
    "\n",
    "X_all = df.iloc[:, :-1].values  \n",
    "Y_all = - df.iloc[:, -1].values   \n",
    "\n",
    "print(X_all.shape,Y_all.shape)"
   ]
  },
  {
   "cell_type": "markdown",
   "id": "1634e62b",
   "metadata": {},
   "source": [
    "# x和y预处理"
   ]
  },
  {
   "cell_type": "code",
   "execution_count": 25,
   "id": "978b7d3b",
   "metadata": {},
   "outputs": [
    {
     "name": "stdout",
     "output_type": "stream",
     "text": [
      "nan 的索引: [58]\n",
      "(263, 8) (263,)\n"
     ]
    }
   ],
   "source": [
    "from sklearn.preprocessing import MinMaxScaler, StandardScaler\n",
    "min_max_scaler = MinMaxScaler()\n",
    "X_all = min_max_scaler.fit_transform(X_all)\n",
    "\n",
    "#去除存在nan的点\n",
    "nan_indices = np.isnan(Y_all)\n",
    "true_indices = np.where(nan_indices)[0]\n",
    "print(\"nan 的索引:\", true_indices)\n",
    "\n",
    "X_all = X_all[~nan_indices.flatten()]\n",
    "Y_all = Y_all[~nan_indices.flatten()]\n",
    "\n",
    "print(X_all.shape,Y_all.shape)"
   ]
  },
  {
   "cell_type": "code",
   "execution_count": 26,
   "id": "633b1ce6",
   "metadata": {},
   "outputs": [
    {
     "data": {
      "text/plain": [
       "-98.29"
      ]
     },
     "execution_count": 26,
     "metadata": {},
     "output_type": "execute_result"
    }
   ],
   "source": [
    "y_min = np.nanmin(Y_all)\n",
    "y_min"
   ]
  },
  {
   "cell_type": "markdown",
   "id": "460d3641",
   "metadata": {},
   "source": [
    "# 设置参数"
   ]
  },
  {
   "cell_type": "code",
   "execution_count": 27,
   "id": "783291a1",
   "metadata": {},
   "outputs": [],
   "source": [
    "from emukit.bayesian_optimization.acquisitions import EI_transfer\n",
    "\n",
    "from emukit.bayesian_optimization.acquisitions import SampleMaxVariance, SampleMinEuclideanDistance, \\\n",
    "                                                SampleVarianceEuclideanDistance,  SampleYDistance\n",
    "\n",
    "file_name = \"standard_bo\" \n",
    "\n",
    "n_loop = 40        #循环求均值次数，也即整个流程重复次数\n",
    "maxiter = 50       #模型迭代次数\n",
    "\n",
    "rdm_sample = 3\n",
    "\n",
    "# num_x_init = 20\n",
    "\n",
    "model_var = 0.1\n",
    "num_restarts = 5\n",
    "bs = 1\n",
    "top = 1 \n"
   ]
  },
  {
   "cell_type": "markdown",
   "id": "5f0e72c2",
   "metadata": {},
   "source": [
    "# 开始优化"
   ]
  },
  {
   "cell_type": "code",
   "execution_count": 28,
   "id": "65e27bd1",
   "metadata": {
    "scrolled": true
   },
   "outputs": [
    {
     "name": "stderr",
     "output_type": "stream",
     "text": [
      "Loop Progress: 100%|██████████| 40/40 [26:18<00:00, 39.46s/it]\n"
     ]
    }
   ],
   "source": [
    "from sklearn.metrics import mean_squared_error, mean_absolute_error,r2_score\n",
    "from scipy.stats import spearmanr\n",
    "from emukit.core import ParameterSpace, ContinuousParameter, DiscreteParameter\n",
    "import tqdm\n",
    "\n",
    "import logging\n",
    "logging.getLogger('variance').setLevel(logging.ERROR)\n",
    "logging.getLogger('lengthscale').setLevel(logging.ERROR)\n",
    "\n",
    "var_array , design = create_latin_design(X_all)\n",
    "\n",
    "\n",
    "df_min_y= pd.DataFrame()\n",
    "\n",
    "\n",
    "first_iteration = True  # 初始化布尔变量，表示是否是第一次迭代\n",
    "\n",
    "for tri in tqdm.tqdm(range(n_loop), desc=\"Loop Progress\"): \n",
    "    \n",
    "    # 进行初始选点\n",
    "#     np.random.seed(42)  # 设置随机种子以确保结果可重现\n",
    "#     x_init = design.get_samples(lhs_sample)                        \n",
    "#     x_init_original = get_closest_array(x_denormalizer(x_init, var_array),X_all)\n",
    "#     X = x_init_original\n",
    "        \n",
    "    random_indices = np.random.choice(X_all.shape[0], rdm_sample , replace=False)  \n",
    "    X = X_all[random_indices] \n",
    "    \n",
    "    \n",
    "#     Y = find_y_by_x(X, X_all, Y_all)\n",
    "#     # 初始化模型\n",
    "#     input_dim = len(X[0])\n",
    "#     ker = GPy.kern.Matern52(input_dim = input_dim, ARD = True)#\n",
    "#     model_gpy = GPRegression(X,Y, ker)\n",
    "#     emukit_model = GPyModelWrapper(model_gpy)  \n",
    "    \n",
    "#     for i in range( num_x_init - lhs_sample):\n",
    "        \n",
    "#         select_acquisition = SampleMinEuclideanDistance(emukit_model)   \n",
    "#         acq_plot = select_acquisition.evaluate(X_all)\n",
    "#         select_acquisition_nom = (acq_plot - np.min(acq_plot)) / (np.max(acq_plot) - np.min(acq_plot))\n",
    "#         #将已经采样点的获取函数值设为0\n",
    "#         for x_row in X:\n",
    "#             indices = np.where(np.all(X_all == x_row, axis=1))[0]\n",
    "#             select_acquisition_nom[indices] = 0\n",
    "            \n",
    "#         sort_index = np.argsort(select_acquisition_nom, axis =0)\n",
    "#         x_new = []\n",
    "#         for i in sort_index[-top:]:\n",
    "#                 x_new.append(X_all[i][0])\n",
    "#         x_new=np.array(x_new)\n",
    "#         y_new = find_y_by_x(x_new, X_all, Y_all)\n",
    "        \n",
    "#         X = np.append(X, x_new, axis=0)\n",
    "#         Y = np.append(Y, y_new, axis=0)\n",
    "        \n",
    "#         model_gpy = GPRegression(X, Y, ker)\n",
    "#         emukit_model = GPyModelWrapper(model_gpy)   \n",
    "\n",
    "# 初始化模型\n",
    "    Y = find_y_by_x(X, X_all, Y_all)\n",
    "    input_dim = len(X[0])\n",
    "    ker = GPy.kern.Matern52(input_dim = input_dim, ARD = True)# \n",
    "    ker.randomize()\n",
    "    ker.lengthscale.constrain_bounded(0.01, 10)\n",
    "    ker.variance.constrain_bounded(1e-2, 1e4) \n",
    "    model_gpy = GPRegression(X,Y, ker)\n",
    "    model_gpy.Gaussian_noise.variance = model_var**2\n",
    "    model_gpy.Gaussian_noise.variance.fix()\n",
    "    model_gpy.randomize()\n",
    "    model_gpy.optimize_restarts(num_restarts=num_restarts,verbose =False, messages=False)\n",
    "    emukit_model = GPyModelWrapper(model_gpy)   \n",
    "    \n",
    "    \n",
    "#进行优化迭代\n",
    "   \n",
    "    min_y = []\n",
    "    \n",
    "    for i in range(maxiter):\n",
    "\n",
    "\n",
    "        ei_acquisition = ExpectedImprovement(emukit_model)\n",
    "        ei_plot = ei_acquisition.evaluate(X_all)\n",
    "        ei_acquisition_nom = (ei_plot - np.min(ei_plot)) / (np.max(ei_plot) - np.min(ei_plot))\n",
    "        \n",
    "        new_acquisition = ei_acquisition_nom \n",
    "        \n",
    "#将已经采样点，对应y为nan 的点的 获取函数值设为0\n",
    "        for x_row in X:\n",
    "            indices = np.where(np.all(X_all == x_row, axis=1))[0]\n",
    "            new_acquisition[indices] = 0\n",
    "            \n",
    "        sort_index = np.argsort(new_acquisition, axis =0)\n",
    "        x_new = []\n",
    "        for i in sort_index[-top:]:\n",
    "                x_new.append(X_all[i][0])\n",
    "\n",
    "        x_new=np.array(x_new)\n",
    "        y_new = find_y_by_x(x_new, X_all, Y_all)\n",
    "\n",
    "        X = np.append(X, x_new, axis=0)\n",
    "        Y = np.append(Y, y_new, axis=0)\n",
    "        \n",
    "        model_gpy = GPRegression(X, Y, ker)\n",
    "        model_gpy.optimize_restarts(num_restarts=num_restarts,verbose =False, messages=False)\n",
    "        emukit_model = GPyModelWrapper(model_gpy)\n",
    "        \n",
    "        min_y.append(min(Y).item())\n",
    "        \n",
    "        \n",
    "             \n",
    "    # 将 DataFrame 追加到主 DataFrame 中\n",
    "    df_min_y = pd.concat([df_min_y, pd.DataFrame([min_y])], ignore_index=True)\n",
    "\n",
    "\n",
    "\n"
   ]
  },
  {
   "cell_type": "code",
   "execution_count": 29,
   "id": "83e45312",
   "metadata": {},
   "outputs": [
    {
     "name": "stdout",
     "output_type": "stream",
     "text": [
      "(53, 8) (40, 50)\n"
     ]
    }
   ],
   "source": [
    "print(X.shape,df_min_y.shape)"
   ]
  },
  {
   "cell_type": "code",
   "execution_count": 30,
   "id": "723fd7ac",
   "metadata": {},
   "outputs": [
    {
     "data": {
      "image/png": "[encoded data removed]",
      "text/plain": [
       "<Figure size 432x288 with 1 Axes>"
      ]
     },
     "metadata": {
      "needs_background": "light"
     },
     "output_type": "display_data"
    }
   ],
   "source": [
    "mean_data = df_min_y.mean()\n",
    "\n",
    "\n",
    "# 定义透明度参数\n",
    "alpha_increment = 0.3 / len(df_min_y)\n",
    "\n",
    "for i, (index, row) in enumerate(df_min_y.iterrows()):\n",
    "\n",
    "    # 计算当前透明度\n",
    "#     alpha = 0.1 + alpha_increment * (i + 1)\n",
    "    alpha = 0.3\n",
    "    # 绘制折线图，并设置颜色和透明度\n",
    "    plt.plot(row.index, row.values, color='blue', alpha=alpha)\n",
    "    \n",
    "    \n",
    "plt.plot(mean_data.index, mean_data.values,  marker='o', linestyle='-', color='blue')\n",
    "\n",
    "y_min = np.nanmin(Y_all)\n",
    "plt.axhline(y_min, color='black', linestyle=':', linewidth=5,)\n",
    "# 添加图例\n",
    "# plt.legend()\n",
    "\n",
    "plt.xlabel('Iteration')\n",
    "plt.ylabel('Min.Func.Value')\n",
    "\n",
    "# 显示图形\n",
    "plt.show()"
   ]
  },
  {
   "cell_type": "code",
   "execution_count": 31,
   "id": "1a0606a1",
   "metadata": {},
   "outputs": [],
   "source": [
    "import os\n",
    "\n",
    "folder_name = r'C:\\Users\\13282\\Desktop\\papercode\\trasfer\\result\\Aryl\\aryl15'\n",
    "\n",
    "# 确保文件夹存在，如果不存在则创建\n",
    "if not os.path.exists(folder_name):\n",
    "    os.makedirs(folder_name)\n",
    "\n",
    "# 构建完整的文件路径，包括文件夹名称和文件名\n",
    "miny_name = os.path.join(folder_name, f'{file_name}_miny.xlsx')\n",
    "df_min_y.to_excel(miny_name, index=False, engine='openpyxl')\n",
    "\n",
    "\n"
   ]
  },
  {
   "cell_type": "markdown",
   "id": "f9f74010",
   "metadata": {},
   "source": [
    "# 检测采样"
   ]
  },
  {
   "cell_type": "code",
   "execution_count": 32,
   "id": "cfc91be7",
   "metadata": {},
   "outputs": [
    {
     "name": "stdout",
     "output_type": "stream",
     "text": [
      "总的重复次数为: 0\n",
      "总的不同重复行数为: 0\n"
     ]
    }
   ],
   "source": [
    "import numpy as np\n",
    "from collections import Counter\n",
    "\n",
    "def find_duplicate_rows(X):\n",
    "    Z = X\n",
    "    # 将数组中的每一行表示为元组，并将这些元组存储在列表中\n",
    "    row_tuples = [tuple(row) for row in Z]\n",
    "\n",
    "    # 使用Python的collections.Counter来计算元组的出现次数\n",
    "    row_counts = Counter(row_tuples)\n",
    "\n",
    "    # 初始化总的重复次数\n",
    "    total_duplicate_count = 0\n",
    "\n",
    "    # 创建一个集合来存储已经计数过的行\n",
    "    counted_rows = set()\n",
    "\n",
    "    # 打印重复行的行号（索引）和它们的重复次数，并计算总的重复次数\n",
    "    for index, row in enumerate(Z):\n",
    "        row_tuple = tuple(row)\n",
    "        if row_tuple not in counted_rows:\n",
    "            count = row_counts[row_tuple]\n",
    "            if count > 1:\n",
    "                print(f\"行 {index + 1} 重复了 {count} 次\")\n",
    "                total_duplicate_count += count\n",
    "            counted_rows.add(row_tuple)  # 将该行添加到已计数的行集合中\n",
    "\n",
    "    # 打印总的重复次数\n",
    "    print(f\"总的重复次数为: {total_duplicate_count}\")\n",
    "\n",
    "    # 初始化总的不同重复行数\n",
    "    total_unique_duplicate_count = 0\n",
    "\n",
    "    # 创建一个集合来存储已经计数过的行\n",
    "    counted_rows = set()\n",
    "\n",
    "    # 计算不同的重复行数\n",
    "    for row_tuple, count in row_counts.items():\n",
    "        if count > 1:\n",
    "            total_unique_duplicate_count += 1\n",
    "            counted_rows.add(row_tuple)\n",
    "\n",
    "    # 打印总的不同重复行数\n",
    "    print(f\"总的不同重复行数为: {total_unique_duplicate_count}\")\n",
    "    \n",
    "    \n",
    "find_duplicate_rows(X)\n"
   ]
  },
  {
   "cell_type": "code",
   "execution_count": 33,
   "id": "d644af7d",
   "metadata": {},
   "outputs": [
    {
     "name": "stdout",
     "output_type": "stream",
     "text": [
      "行 1 重复了 2 次\n",
      "行 28 重复了 2 次\n",
      "行 30 重复了 2 次\n",
      "行 52 重复了 5 次\n",
      "行 65 重复了 2 次\n",
      "总的重复次数为: 13\n",
      "总的不同重复行数为: 5\n"
     ]
    }
   ],
   "source": [
    "Y_all_reshaped = Y_all.reshape(-1, 1)\n",
    "find_duplicate_rows(Y_all_reshaped)"
   ]
  },
  {
   "cell_type": "code",
   "execution_count": null,
   "id": "d6231fa7",
   "metadata": {},
   "outputs": [],
   "source": []
  }
 ],
 "metadata": {
  "kernelspec": {
   "display_name": "Python 3",
   "language": "python",
   "name": "python3"
  },
  "language_info": {
   "codemirror_mode": {
    "name": "ipython",
    "version": 3
   },
   "file_extension": ".py",
   "mimetype": "text/x-python",
   "name": "python",
   "nbconvert_exporter": "python",
   "pygments_lexer": "ipython3",
   "version": "3.8.8"
  }
 },
 "nbformat": 4,
 "nbformat_minor": 5
}
