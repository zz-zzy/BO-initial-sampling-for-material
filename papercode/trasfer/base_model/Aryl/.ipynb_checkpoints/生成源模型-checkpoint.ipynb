{
 "cells": [
  {
   "cell_type": "code",
   "execution_count": 1,
   "id": "bc236e20",
   "metadata": {},
   "outputs": [],
   "source": [
    "import numpy as np\n",
    "import pandas as pd\n",
    "import matplotlib.pyplot as plt\n",
    "\n",
    "import emukit\n",
    "import GPy\n",
    "from emukit.core import ParameterSpace, ContinuousParameter, DiscreteParameter\n",
    "from emukit.core.initial_designs.random_design import RandomDesign\n",
    "from emukit.core.initial_designs.latin_design import LatinDesign\n",
    "from GPy.models import GPRegression\n",
    "from emukit.model_wrappers import GPyModelWrapper\n",
    "\n",
    "from emukit.bayesian_optimization.loops import BayesianOptimizationLoop\n",
    "from emukit.bayesian_optimization.acquisitions import ExpectedImprovement, \\\n",
    "                                                      NegativeLowerConfidenceBound, \\\n",
    "                                                      MaxValueEntropySearch, \\\n",
    "                                                      ProbabilityOfImprovement\n",
    "from emukit.core.acquisition import IntegratedHyperParameterAcquisition\n",
    "\n"
   ]
  },
  {
   "cell_type": "code",
   "execution_count": 36,
   "id": "f19622d7",
   "metadata": {},
   "outputs": [
    {
     "name": "stdout",
     "output_type": "stream",
     "text": [
      "(536, 10)\n",
      "(536, 9) (536,)\n"
     ]
    }
   ],
   "source": [
    "import pandas as pd\n",
    "import numpy as np\n",
    "import os\n",
    "\n",
    "\n",
    "# Fe Co  others  Ni Ti\n",
    "\n",
    "source_name = 'Ni'\n",
    "\n",
    "folder_path = r'C:\\Users\\13282\\Desktop\\papercode\\data\\Aryl\\original_processed' \n",
    "file_path = os.path.join(folder_path, 'Ni.xlsx')\n",
    "\n",
    "df = pd.read_excel(file_path)\n",
    "\n",
    "#去除存在nan的点\n",
    "# nan_indices = np.isnan(Y)\n",
    "# X = X[~nan_indices.flatten()]\n",
    "# Y = Y[~nan_indices.flatten()]\n",
    "print(df.shape)\n",
    "\n",
    "X_all = df.iloc[:, :-1].values  \n",
    "Y_all = df.iloc[:, -1].values   \n",
    "\n",
    "print(X_all.shape,Y_all.shape)"
   ]
  },
  {
   "cell_type": "markdown",
   "id": "5f98bd18",
   "metadata": {},
   "source": [
    "# 对x进行minmax"
   ]
  },
  {
   "cell_type": "code",
   "execution_count": 37,
   "id": "35fae375",
   "metadata": {},
   "outputs": [],
   "source": [
    "from sklearn.preprocessing import MinMaxScaler, StandardScaler\n",
    "\n",
    "\n",
    "min_max_scaler = MinMaxScaler()\n",
    "\n",
    "x_all_normalized = min_max_scaler.fit_transform(X_all)"
   ]
  },
  {
   "cell_type": "code",
   "execution_count": 38,
   "id": "4780c07d",
   "metadata": {},
   "outputs": [
    {
     "data": {
      "image/png": "[encoded data removed]",
      "text/plain": [
       "<Figure size 720x288 with 2 Axes>"
      ]
     },
     "metadata": {
      "needs_background": "light"
     },
     "output_type": "display_data"
    }
   ],
   "source": [
    "import seaborn as sns\n",
    "# 创建一个2x1的子图\n",
    "fig, axes = plt.subplots(1, 2, figsize=(10, 4))\n",
    "\n",
    "# 绘制原始y的分布直方图\n",
    "axes[0].hist(Y_all, bins=20, color='blue', edgecolor='black')\n",
    "\n",
    "axes[0].set_xlabel('y', fontsize=18)  # 设置x轴标签的字体大小为16\n",
    "axes[0].set_ylabel('counts', fontsize=18)   # 设置y轴标签的字体大小为16\n",
    "axes[0].yaxis.set_major_locator(plt.MaxNLocator(integer=True))\n",
    "# 隐藏后两个子图\n",
    "for ax in axes[1:]:\n",
    "    ax.axis('off')  # 关闭坐标轴\n",
    "    ax.set_visible(False)  # 设置子图为不可见"
   ]
  },
  {
   "cell_type": "code",
   "execution_count": 39,
   "id": "b7e8995e",
   "metadata": {},
   "outputs": [],
   "source": [
    "X = x_all_normalized\n",
    "Y = Y_all.reshape(-1, 1)"
   ]
  },
  {
   "cell_type": "markdown",
   "id": "11608fc0",
   "metadata": {},
   "source": [
    "# 训练模型"
   ]
  },
  {
   "cell_type": "code",
   "execution_count": 40,
   "id": "65e27bd1",
   "metadata": {},
   "outputs": [
    {
     "name": "stderr",
     "output_type": "stream",
     "text": [
      "reconstraining parameters Mat52.lengthscale\n",
      "reconstraining parameters Mat52.variance\n"
     ]
    },
    {
     "name": "stdout",
     "output_type": "stream",
     "text": [
      "代码执行时间: 2.0 分钟 40.38038969039917 秒\n"
     ]
    }
   ],
   "source": [
    "import time\n",
    "\n",
    "# 记录开始时间\n",
    "start_time = time.time()\n",
    "# 初始化模型\n",
    "\n",
    "\n",
    "\n",
    "\n",
    "input_dim = len(X[0])\n",
    "\n",
    "ker = GPy.kern.Matern52(input_dim = input_dim, ARD = True)#\n",
    "\n",
    "model_var = 0.1\n",
    "ker.lengthscale.constrain_bounded(0.001, 5) #lengthscale决定着点与点之间的相互作用程度\n",
    "ker.variance.constrain_bounded(1e-2, 1e4) #方差\n",
    "\n",
    "\n",
    "# model_var = 0.1\n",
    "# ker.lengthscale.constrain_bounded(0.001, 20) #lengthscale决定着点与点之间的相互作用程度\n",
    "# ker.variance.constrain_bounded(1e-2, 1e4) #方差\n",
    "\n",
    "\n",
    "model_gpy = GPRegression(X,Y, ker)\n",
    "\n",
    "model_gpy.Gaussian_noise.variance = model_var**2\n",
    "model_gpy.Gaussian_noise.variance.fix()\n",
    "\n",
    "model_gpy.randomize()\n",
    "model_gpy.optimize_restarts(num_restarts=20,verbose =False, messages=False)\n",
    "\n",
    "base_model_1 = GPyModelWrapper(model_gpy)\n",
    "\n",
    "\n",
    "# 记录结束时间\n",
    "end_time = time.time()\n",
    "execution_time = end_time - start_time\n",
    "# 计算代码的运行时间\n",
    "minutes = execution_time // 60\n",
    "seconds = execution_time % 60\n",
    "print(f\"代码执行时间: {minutes} 分钟 {seconds} 秒\")\n"
   ]
  },
  {
   "cell_type": "code",
   "execution_count": 41,
   "id": "925c0d40",
   "metadata": {
    "scrolled": true
   },
   "outputs": [
    {
     "name": "stdout",
     "output_type": "stream",
     "text": [
      "  \u001b[1mindex\u001b[0;0m  |  GP_regression.Mat52.lengthscale  |  constraints  |  priors\n",
      "  \u001b[1m[0]  \u001b[0;0m  |                       0.21019197  |   0.001,5.0   |        \n",
      "  \u001b[1m[1]  \u001b[0;0m  |                       3.24882335  |   0.001,5.0   |        \n",
      "  \u001b[1m[2]  \u001b[0;0m  |                       5.00000000  |   0.001,5.0   |        \n",
      "  \u001b[1m[3]  \u001b[0;0m  |                       0.00324523  |   0.001,5.0   |        \n",
      "  \u001b[1m[4]  \u001b[0;0m  |                       0.00143618  |   0.001,5.0   |        \n",
      "  \u001b[1m[5]  \u001b[0;0m  |                       4.99932513  |   0.001,5.0   |        \n",
      "  \u001b[1m[6]  \u001b[0;0m  |                       4.90652759  |   0.001,5.0   |        \n",
      "  \u001b[1m[7]  \u001b[0;0m  |                       0.23514479  |   0.001,5.0   |        \n",
      "  \u001b[1m[8]  \u001b[0;0m  |                       4.99996718  |   0.001,5.0   |        \n",
      "  \u001b[1mindex\u001b[0;0m  |  GP_regression.Mat52.variance  |  constraints   |  priors\n",
      "  \u001b[1m[0]  \u001b[0;0m  |                   46.63364493  |  0.01,10000.0  |        \n"
     ]
    }
   ],
   "source": [
    "print(base_model_1.model.kern.lengthscale)\n",
    "print(base_model_1.model.kern.variance)"
   ]
  },
  {
   "cell_type": "code",
   "execution_count": 42,
   "id": "7a3ab39f",
   "metadata": {
    "scrolled": false
   },
   "outputs": [
    {
     "name": "stdout",
     "output_type": "stream",
     "text": [
      "Train Set Metrics:\n",
      "MAE: 0.02   RMSE: 0.06   spearman: 1.0   R² score: 0.999\n"
     ]
    },
    {
     "data": {
      "image/png": "[encoded data removed]",
      "text/plain": [
       "<Figure size 1188x324 with 3 Axes>"
      ]
     },
     "metadata": {
      "needs_background": "light"
     },
     "output_type": "display_data"
    }
   ],
   "source": [
    "f_obj =  base_model_1.model.predict\n",
    "y_pred, y_uncer = f_obj(X)\n",
    "y_pred = -y_pred[:,-1]\n",
    "y_uncer = np.sqrt(y_uncer[:,-1])\n",
    "y_truth = -Y[:,-1]\n",
    "\n",
    "from sklearn.metrics import mean_squared_error, mean_absolute_error,r2_score\n",
    "from scipy.stats import spearmanr\n",
    "fig, axes = plt.subplots(1, 3, figsize=(5.5*3, 4.5))\n",
    "fs = 20\n",
    "lims1 = (0, 15)\n",
    "axes[0].scatter(y_truth, y_pred, alpha = 0.5, c = 'navy' , edgecolor = 'navy')\n",
    "axes[0].errorbar(y_truth, y_pred, yerr = y_uncer, ms = 0, \n",
    "                 ls = '', capsize = 2, alpha = 0.6,\n",
    "                 color = 'gray', zorder = 0)\n",
    "axes[0].plot(lims1, lims1, 'k--', alpha=0.75, zorder=0)\n",
    "\n",
    "rmse_value = np.sqrt(mean_squared_error(y_truth, y_pred))\n",
    "mae_value = mean_absolute_error(y_truth, y_pred)\n",
    "spearman_value = spearmanr(y_truth, y_pred)[0]\n",
    "rsquared_value = r2_score(y_truth, y_pred)\n",
    "\n",
    "print('Train Set Metrics:')\n",
    "print('MAE:',np.round(mae_value,2), ' ',\n",
    "      'RMSE:', np.round(rmse_value,2), ' ',\n",
    "      'spearman:', np.round(spearman_value,3), ' ',\n",
    "      'R² score:', np.round(rsquared_value,3))\n",
    "\n",
    "title = 'GPR Train' + \" (MAE=%.2f\" % mae_value+' [%])'\n",
    "axes[0].set_xlabel('Ground Truth yield [%]', fontproperties='Arial',fontsize = fs)\n",
    "axes[0].set_ylabel('Prediction yield [%]',fontproperties='Arial', fontsize = fs)\n",
    "axes[0].set_title(title, fontsize = fs,fontproperties='Arial')\n",
    "        \n",
    "for i in range(len(axes)):\n",
    "    axes[i].tick_params(direction='in', length=5, width=1, labelsize = fs*.8, grid_alpha = 0.5)\n",
    "    axes[i].grid(True, linestyle='-.')\n",
    "plt.subplots_adjust(wspace = 0.4)\n",
    "\n",
    "# 隐藏后两个子图\n",
    "for ax in axes[1:]:\n",
    "    ax.axis('off')  # 关闭坐标轴\n",
    "    ax.set_visible(False)  # 设置子图为不可见\n",
    "\n",
    "plt.show()\n"
   ]
  },
  {
   "cell_type": "markdown",
   "id": "277abe86",
   "metadata": {},
   "source": [
    "# 保存源模型为文件"
   ]
  },
  {
   "cell_type": "code",
   "execution_count": 43,
   "id": "8c63a5d2",
   "metadata": {},
   "outputs": [],
   "source": [
    "import pickle\n",
    "import os\n",
    "\n",
    "\n",
    "# 定义文件夹路径\n",
    "folder_path = 'matminer'\n",
    "\n",
    "# 如果文件夹不存在，则创建文件夹\n",
    "if not os.path.exists(folder_path):\n",
    "    os.makedirs(folder_path)\n",
    "\n",
    "# 保存 base_model_1 到文件\n",
    "with open(os.path.join(folder_path,  f'{source_name}.pkl'), 'wb') as f:\n",
    "    pickle.dump(base_model_1, f)\n",
    "\n",
    "# # 保存 nlcb_1 到文件\n",
    "# with open(os.path.join(folder_path, 'nlcb_1.pkl'), 'wb') as f:\n",
    "#     pickle.dump(nlcb_1, f)"
   ]
  },
  {
   "cell_type": "code",
   "execution_count": null,
   "id": "0008361e",
   "metadata": {},
   "outputs": [],
   "source": []
  }
 ],
 "metadata": {
  "kernelspec": {
   "display_name": "Python 3",
   "language": "python",
   "name": "python3"
  },
  "language_info": {
   "codemirror_mode": {
    "name": "ipython",
    "version": 3
   },
   "file_extension": ".py",
   "mimetype": "text/x-python",
   "name": "python",
   "nbconvert_exporter": "python",
   "pygments_lexer": "ipython3",
   "version": "3.8.8"
  }
 },
 "nbformat": 4,
 "nbformat_minor": 5
}
