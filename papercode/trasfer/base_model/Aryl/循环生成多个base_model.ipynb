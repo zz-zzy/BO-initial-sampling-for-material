{
 "cells": [
  {
   "cell_type": "code",
   "execution_count": 10,
   "id": "bc236e20",
   "metadata": {},
   "outputs": [],
   "source": [
    "import numpy as np\n",
    "import pandas as pd\n",
    "import matplotlib.pyplot as plt\n",
    "\n",
    "import emukit\n",
    "import GPy\n",
    "from emukit.core import ParameterSpace, ContinuousParameter, DiscreteParameter\n",
    "from emukit.core.initial_designs.random_design import RandomDesign\n",
    "from emukit.core.initial_designs.latin_design import LatinDesign\n",
    "from GPy.models import GPRegression\n",
    "from emukit.model_wrappers import GPyModelWrapper\n",
    "\n",
    "from emukit.bayesian_optimization.loops import BayesianOptimizationLoop\n",
    "from emukit.bayesian_optimization.acquisitions import ExpectedImprovement, \\\n",
    "                                                      NegativeLowerConfidenceBound, \\\n",
    "                                                      MaxValueEntropySearch, \\\n",
    "                                                      ProbabilityOfImprovement\n",
    "from emukit.core.acquisition import IntegratedHyperParameterAcquisition\n",
    "\n"
   ]
  },
  {
   "cell_type": "code",
   "execution_count": 11,
   "id": "b69c44c6",
   "metadata": {},
   "outputs": [
    {
     "name": "stderr",
     "output_type": "stream",
     "text": [
      "Loop Progress: 100%|██████████| 15/15 [06:17<00:00, 25.14s/it]\n"
     ]
    }
   ],
   "source": [
    "import os\n",
    "import pickle\n",
    "\n",
    "from sklearn.preprocessing import MinMaxScaler, StandardScaler\n",
    "import tqdm\n",
    "\n",
    "import logging\n",
    "logging.getLogger('variance').setLevel(logging.ERROR)\n",
    "logging.getLogger('lengthscale').setLevel(logging.ERROR)\n",
    "\n",
    "min_max_scaler = MinMaxScaler()\n",
    "\n",
    "\n",
    "# 定义文件夹路径\n",
    "folder_path = r'C:\\Users\\13282\\Desktop\\papercode\\data\\Aryl\\original_processed' \n",
    "\n",
    "# 创建文件夹（如果不存在）\n",
    "if not os.path.exists(folder_path):\n",
    "    os.makedirs(folder_path)\n",
    "\n",
    "\n",
    "# 处理15个CSV文件\n",
    "for i in tqdm.tqdm(range(1, 16), desc=\"Loop Progress\"): \n",
    "    source_name = f'aryl-{i}'\n",
    "    file_path = os.path.join(folder_path, f'aryl-{i}.xlsx')\n",
    "    df = pd.read_excel(file_path)\n",
    "    \n",
    "    X_all = df.iloc[:, :-1].values  \n",
    "    Y_all = - df.iloc[:, -1].values  # y 加负号\n",
    "    \n",
    "    x_all_normalized = min_max_scaler.fit_transform(X_all)\n",
    "    \n",
    "    nan_indices = np.isnan(Y_all)\n",
    "    true_indices = np.where(nan_indices)[0]\n",
    "    x_all_normalized = x_all_normalized[~nan_indices.flatten()]\n",
    "    Y_all = Y_all[~nan_indices.flatten()]\n",
    "    \n",
    "    X = x_all_normalized\n",
    "    Y = Y_all.reshape(-1, 1)\n",
    "\n",
    "\n",
    "    # 建立模型\n",
    "    input_dim = len(X[0])\n",
    "    ker = GPy.kern.Matern52(input_dim = input_dim, ARD = True)#\n",
    "\n",
    "    model_var = 0.1\n",
    "    ker.lengthscale.constrain_bounded(0.001, 5) #lengthscale决定着点与点之间的相互作用程度\n",
    "    ker.variance.constrain_bounded(1e-2, 1e4) #方差\n",
    "\n",
    "    model_gpy = GPRegression(X,Y, ker)\n",
    "\n",
    "    model_gpy.Gaussian_noise.variance = model_var**2\n",
    "    model_gpy.Gaussian_noise.variance.fix()\n",
    "\n",
    "    model_gpy.randomize()\n",
    "    model_gpy.optimize_restarts(num_restarts=20,verbose =False, messages=False)\n",
    "\n",
    "    base_model_1 = GPyModelWrapper(model_gpy)\n",
    "\n",
    "\n",
    "    # 保存 base_model_1 到文件\n",
    "    with open(os.path.join( 'pca',  f'{source_name}.pkl'), 'wb') as f:\n",
    "        pickle.dump(base_model_1, f)\n",
    "\n",
    "\n",
    "\n"
   ]
  },
  {
   "cell_type": "code",
   "execution_count": null,
   "id": "5f1c1c1f",
   "metadata": {},
   "outputs": [],
   "source": []
  },
  {
   "cell_type": "code",
   "execution_count": null,
   "id": "f3ae49fa",
   "metadata": {},
   "outputs": [],
   "source": []
  }
 ],
 "metadata": {
  "kernelspec": {
   "display_name": "Python 3",
   "language": "python",
   "name": "python3"
  },
  "language_info": {
   "codemirror_mode": {
    "name": "ipython",
    "version": 3
   },
   "file_extension": ".py",
   "mimetype": "text/x-python",
   "name": "python",
   "nbconvert_exporter": "python",
   "pygments_lexer": "ipython3",
   "version": "3.8.8"
  }
 },
 "nbformat": 4,
 "nbformat_minor": 5
}
