{
 "cells": [
  {
   "cell_type": "code",
   "execution_count": 1,
   "id": "fd848225",
   "metadata": {},
   "outputs": [],
   "source": [
    "import numpy as np\n",
    "from collections import Counter\n",
    "\n",
    "def find_duplicate_rows(X):\n",
    "    Z = X\n",
    "    # 将数组中的每一行表示为元组，并将这些元组存储在列表中\n",
    "    row_tuples = [tuple(row) for row in Z]\n",
    "\n",
    "    # 使用Python的collections.Counter来计算元组的出现次数\n",
    "    row_counts = Counter(row_tuples)\n",
    "\n",
    "    # 初始化总的重复次数\n",
    "    total_duplicate_count = 0\n",
    "\n",
    "    # 创建一个集合来存储已经计数过的行\n",
    "    counted_rows = set()\n",
    "\n",
    "    # 打印重复行的行号（索引）和它们的重复次数，并计算总的重复次数\n",
    "    for index, row in enumerate(Z):\n",
    "        row_tuple = tuple(row)\n",
    "        if row_tuple not in counted_rows:\n",
    "            count = row_counts[row_tuple]\n",
    "            if count > 1:\n",
    "                duplicate_indices = [i for i, r in enumerate(Z) if tuple(r) == row_tuple]\n",
    "                print(f\"行 {index} 重复了 {count} 次，与行 {duplicate_indices} 重复\")\n",
    "                total_duplicate_count += count\n",
    "            counted_rows.add(row_tuple)  # 将该行添加到已计数的行集合中\n",
    "\n",
    "    # 打印总的重复次数\n",
    "    print(f\"总的重复次数为: {total_duplicate_count}\")\n",
    "\n",
    "    # 初始化总的不同重复行数\n",
    "    total_unique_duplicate_count = 0\n",
    "\n",
    "    # 创建一个集合来存储已经计数过的行\n",
    "    counted_rows = set()\n",
    "\n",
    "    # 计算不同的重复行数\n",
    "    for row_tuple, count in row_counts.items():\n",
    "        if count > 1:\n",
    "            total_unique_duplicate_count += 1\n",
    "            counted_rows.add(row_tuple)\n",
    "\n",
    "    # 打印总的不同重复行数\n",
    "    print(f\"总的不同重复行数为: {total_unique_duplicate_count}\")\n",
    "\n"
   ]
  },
  {
   "cell_type": "code",
   "execution_count": 7,
   "id": "969c557f",
   "metadata": {},
   "outputs": [
    {
     "name": "stdout",
     "output_type": "stream",
     "text": [
      "(29, 40)\n",
      "总的重复次数为: 0\n",
      "总的不同重复行数为: 0\n"
     ]
    }
   ],
   "source": [
    "import pandas as pd\n",
    "import matplotlib.pyplot as plt\n",
    "from scipy.stats import norm\n",
    "import numpy as np\n",
    "import os\n",
    "\n",
    "folder_path = r'C:\\Users\\13282\\Desktop\\papercode\\trasfer\\result\\Alloy\\ni' \n",
    "# file_path = os.path.join(folder_path, f'standard_bo_miny.xlsx')\n",
    "# file_path = os.path.join(folder_path, f'Co_plus_miny.xlsx')\n",
    "# file_path = os.path.join(folder_path, f'Fe_miny.xlsx')\n",
    "file_path = os.path.join(folder_path, f'Ti_miny.xlsx')\n",
    "\n",
    "\n",
    "df = pd.read_excel(file_path, header=0)\n",
    "\n",
    "X = df.iloc[:, :].values  \n",
    "print(X.shape)\n",
    "find_duplicate_rows(X)"
   ]
  },
  {
   "cell_type": "code",
   "execution_count": null,
   "id": "8a195430",
   "metadata": {},
   "outputs": [],
   "source": []
  },
  {
   "cell_type": "code",
   "execution_count": null,
   "id": "63e1816b",
   "metadata": {},
   "outputs": [],
   "source": []
  },
  {
   "cell_type": "code",
   "execution_count": null,
   "id": "5732b5e0",
   "metadata": {},
   "outputs": [],
   "source": []
  },
  {
   "cell_type": "code",
   "execution_count": null,
   "id": "ea6f0df7",
   "metadata": {},
   "outputs": [],
   "source": []
  },
  {
   "cell_type": "code",
   "execution_count": null,
   "id": "aa17a72a",
   "metadata": {},
   "outputs": [],
   "source": []
  }
 ],
 "metadata": {
  "kernelspec": {
   "display_name": "Python 3",
   "language": "python",
   "name": "python3"
  },
  "language_info": {
   "codemirror_mode": {
    "name": "ipython",
    "version": 3
   },
   "file_extension": ".py",
   "mimetype": "text/x-python",
   "name": "python",
   "nbconvert_exporter": "python",
   "pygments_lexer": "ipython3",
   "version": "3.8.8"
  }
 },
 "nbformat": 4,
 "nbformat_minor": 5
}
