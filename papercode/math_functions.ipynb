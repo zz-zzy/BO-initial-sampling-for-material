{
 "cells": [
  {
   "cell_type": "markdown",
   "id": "4a3cfc9c",
   "metadata": {},
   "source": [
    "# 归一化"
   ]
  },
  {
   "cell_type": "code",
   "execution_count": null,
   "id": "d5d39ccd",
   "metadata": {},
   "outputs": [],
   "source": [
    "def normalize_array(Y_all):\n",
    "    # 判断数组中的所有元素是否相同\n",
    "    if np.all(Y_all == Y_all[0]):\n",
    "        # 如果所有元素相同，将所有值归一化为0\n",
    "        Y_all_nom = np.zeros_like(Y_all)\n",
    "    else:\n",
    "        # 如果元素不全相同，进行归一化操作\n",
    "        Y_all_nom = (Y_all - np.min(Y_all)) / (np.max(Y_all) - np.min(Y_all))\n",
    "    \n",
    "    return Y_all_nom"
   ]
  },
  {
   "cell_type": "code",
   "execution_count": null,
   "id": "2de74dd9",
   "metadata": {},
   "outputs": [],
   "source": []
  },
  {
   "cell_type": "code",
   "execution_count": null,
   "id": "f1340c47",
   "metadata": {},
   "outputs": [],
   "source": []
  },
  {
   "cell_type": "code",
   "execution_count": null,
   "id": "755e34d1",
   "metadata": {},
   "outputs": [],
   "source": []
  },
  {
   "cell_type": "code",
   "execution_count": null,
   "id": "35fd3943",
   "metadata": {},
   "outputs": [],
   "source": []
  },
  {
   "cell_type": "code",
   "execution_count": null,
   "id": "23540152",
   "metadata": {},
   "outputs": [],
   "source": []
  }
 ],
 "metadata": {
  "kernelspec": {
   "display_name": "Python 3",
   "language": "python",
   "name": "python3"
  },
  "language_info": {
   "codemirror_mode": {
    "name": "ipython",
    "version": 3
   },
   "file_extension": ".py",
   "mimetype": "text/x-python",
   "name": "python",
   "nbconvert_exporter": "python",
   "pygments_lexer": "ipython3",
   "version": "3.8.8"
  }
 },
 "nbformat": 4,
 "nbformat_minor": 5
}
