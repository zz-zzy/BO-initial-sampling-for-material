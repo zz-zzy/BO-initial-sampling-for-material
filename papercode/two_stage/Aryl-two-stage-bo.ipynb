{
 "cells": [
  {
   "cell_type": "code",
   "execution_count": 1,
   "id": "f3420ed8",
   "metadata": {},
   "outputs": [],
   "source": [
    "### General imports\n",
    "%matplotlib inline\n",
    "import numpy as np\n",
    "import matplotlib.pyplot as plt\n",
    "from matplotlib import colors as mcolors\n",
    "\n",
    "### --- Figure config\n",
    "LEGEND_SIZE = 15\n",
    "\n"
   ]
  },
  {
   "cell_type": "code",
   "execution_count": 2,
   "id": "ecfd46a5",
   "metadata": {},
   "outputs": [],
   "source": [
    "from emukit.test_functions import forrester_function\n",
    "from emukit.core.loop.user_function import UserFunctionWrapper\n",
    "from emukit.core import ContinuousParameter, ParameterSpace\n",
    "\n",
    "\n",
    "#space是否设置为一维线性，还是设置为搜索空间？"
   ]
  },
  {
   "cell_type": "markdown",
   "id": "433197ff",
   "metadata": {},
   "source": [
    "# 测试获取函数"
   ]
  },
  {
   "cell_type": "code",
   "execution_count": 3,
   "id": "ed701112",
   "metadata": {},
   "outputs": [],
   "source": [
    "import numpy as np\n",
    "import pandas as pd\n",
    "import matplotlib.pyplot as plt\n",
    "import copy\n",
    "\n",
    "# import emukit\n",
    "import GPy\n",
    "# from emukit.core import ParameterSpace, ContinuousParameter, DiscreteParameter\n",
    "# from emukit.core.initial_designs.random_design import RandomDesign\n",
    "# from emukit.core.initial_designs.latin_design import LatinDesign\n",
    "from GPy.models import GPRegression\n",
    "from emukit.model_wrappers import GPyModelWrapper\n",
    "\n",
    "# from emukit.bayesian_optimization.loops import BayesianOptimizationLoop\n",
    "from emukit.bayesian_optimization.acquisitions import ExpectedImprovement, \\\n",
    "                                                      NegativeLowerConfidenceBound, \\\n",
    "                                                      MaxValueEntropySearch, \\\n",
    "                                                      ProbabilityOfImprovement\n",
    "# from emukit.core.acquisition import IntegratedHyperParameterAcquisition\n",
    "\n",
    "# from rgpe import compute_rank_weights"
   ]
  },
  {
   "cell_type": "code",
   "execution_count": 4,
   "id": "3fa4053b",
   "metadata": {},
   "outputs": [],
   "source": [
    "\n",
    "import numpy as np\n",
    "from scipy.spatial.distance import cdist\n",
    "from emukit.core.initial_designs.latin_design import LatinDesign\n",
    "\n",
    "def find_y_by_x(x_input, X_all, Y_all):  #一通过x找到对应的y的函数\n",
    "    # 确保 x_input 是一个二维数组\n",
    "    if len(x_input.shape) == 1:\n",
    "        x_input = x_input.reshape(1, -1)\n",
    "\n",
    "    # 初始化一个列表来存储所有结果\n",
    "    all_results = []\n",
    "\n",
    "    # 遍历 x_input 中的每个特征向量\n",
    "    for x in x_input:\n",
    "        # 使用 NumPy 的函数 argwhere 来查找 x 在 X 中的位置\n",
    "        indices = np.argwhere(np.all(X_all == x, axis=1))\n",
    "\n",
    "        # 初始化一个列表来存储匹配的 Y 值\n",
    "        matching_y_values = []\n",
    "\n",
    "        # 遍历匹配的位置\n",
    "        for index in indices:\n",
    "            match_index = index[0]\n",
    "            matching_y_values.append(Y_all[match_index])\n",
    "\n",
    "        all_results.append(matching_y_values)\n",
    "    \n",
    "    all_results = np.array(all_results)\n",
    "    return all_results\n",
    "\n",
    "def x_normalizer(X, var_array):\n",
    "    \n",
    "    def max_min_scaler(x, x_max, x_min):\n",
    "        return (x-x_min)/(x_max-x_min)\n",
    "    x_norm = []\n",
    "    for x in (X):\n",
    "           x_norm.append([max_min_scaler(x[i], \n",
    "                                         max(var_array[i]), \n",
    "                                         min(var_array[i])) for i in range(len(x))])\n",
    "            \n",
    "    return x_norm\n",
    "\n",
    "def x_denormalizer(x_norm, var_array):\n",
    "    \n",
    "    def max_min_rescaler(x, x_max, x_min):\n",
    "        return x*(x_max-x_min)+x_min\n",
    "    x_original = []\n",
    "    for x in (x_norm):\n",
    "           x_original.append([max_min_rescaler(x[i], \n",
    "                                         max(var_array[i]), \n",
    "                                         min(var_array[i])) for i in range(len(x))])\n",
    "            \n",
    "    return x_original\n",
    "\n",
    "\n",
    "\n",
    "\n",
    "# def get_closest_array(x_init, X_all):\n",
    "#     # 计算 x_init 中每个点与 X_all 中所有点之间的距离\n",
    "#     distances = cdist(x_init, X_all)   \n",
    "#     # 找到每个点最近的索引\n",
    "#     closest_indices = np.argmin(distances, axis=1)    \n",
    "#     # 根据索引获取最近的点\n",
    "#     closest_array = X_all[closest_indices]  \n",
    "#     return closest_array\n",
    "\n",
    "def get_closest_array(x_init, X_all):\n",
    "    X_all_copy = X_all.copy()\n",
    "    closest_array = []\n",
    "    \n",
    "    for x in x_init:\n",
    "        # 计算 x 与 X_all_copy 中所有点之间的距离\n",
    "        distances = cdist([x], X_all_copy)[0]\n",
    "        # 找到最近的索引\n",
    "        closest_index = np.argmin(distances)\n",
    "        # 根据索引获取最近的点\n",
    "        closest_point = X_all_copy[closest_index]\n",
    "        # 将最近的点添加到结果数组中\n",
    "        closest_array.append(closest_point)\n",
    "        # 从 X_all_copy 中移除这个点\n",
    "        X_all_copy = np.delete(X_all_copy, closest_index, axis=0)\n",
    "        \n",
    "    return np.array(closest_array)\n",
    "\n",
    "\n",
    "# # 计算两个点之间的欧几里得距离\n",
    "# def euclidean_distance(point1, point2):\n",
    "#     return np.sqrt(np.sum((point1 - point2) ** 2))\n",
    "\n",
    "# # 找到X_all中与x_init每个元素最近的点\n",
    "# def get_closest_array(x_init, X_all):\n",
    "#     closest_array = []\n",
    "#     for point in x_init:\n",
    "#         distances = np.array([euclidean_distance(point, x) for x in X_all])\n",
    "#         closest_idx = distances.argmin()\n",
    "#         closest_array.append(X_all[closest_idx])\n",
    "#     return np.array(closest_array)\n",
    "\n",
    "def create_latin_design(X_all):\n",
    " \n",
    "    x_array = [X_all[:, i] for i in range(X_all.shape[1])]\n",
    "    \n",
    "    num_columns = X_all.shape[1]\n",
    "    parameter_space = ParameterSpace([ContinuousParameter(f'x{i+1}', 0, 1) for i in range(num_columns)])\n",
    "    design = LatinDesign(parameter_space)\n",
    "    \n",
    "    return x_array , design\n"
   ]
  },
  {
   "cell_type": "code",
   "execution_count": 5,
   "id": "c973f282",
   "metadata": {},
   "outputs": [],
   "source": [
    "import numpy as np\n",
    "\n",
    "def evaluate_all(X: np.ndarray, X_all: np.ndarray) -> np.ndarray:\n",
    "    # 扩展 X_all 维度以便进行广播\n",
    "    X_all_expanded = X_all[:, np.newaxis, :]\n",
    "    # 扩展 X 维度以便进行广播\n",
    "    X_expanded = X[np.newaxis, :, :]\n",
    "    # 计算欧氏距离矩阵\n",
    "    Euclidean_distance = np.linalg.norm(X_all_expanded - X_expanded, axis=-1)\n",
    "    # 获取最小距离\n",
    "    min_distance = np.min(Euclidean_distance, axis=1)\n",
    "    \n",
    "    return min_distance.reshape(-1, 1)\n",
    "\n",
    "def SE_samples(X: np.ndarray, X_all: np.ndarray, batch_size) -> np.ndarray:\n",
    "    for _ in range(batch_size):\n",
    "        all_Edis = evaluate_all(X, X_all)\n",
    "        \n",
    "        for x_row in X:\n",
    "            indices = np.where(np.all(X_all == x_row, axis=-1))[0]\n",
    "            all_Edis[indices] = 0\n",
    "        \n",
    "        sort_index = np.argsort(all_Edis, axis=0).flatten()\n",
    "        x_new = X_all[sort_index[-1]]\n",
    "        \n",
    "        X = np.append(X, [x_new], axis=0)\n",
    "    \n",
    "    return X"
   ]
  },
  {
   "cell_type": "markdown",
   "id": "68e9511e",
   "metadata": {},
   "source": [
    "# 导入数据"
   ]
  },
  {
   "cell_type": "code",
   "execution_count": 6,
   "id": "8353cd57",
   "metadata": {},
   "outputs": [
    {
     "name": "stdout",
     "output_type": "stream",
     "text": [
      "(264, 9)\n",
      "(264, 8) (264,)\n"
     ]
    }
   ],
   "source": [
    "import pandas as pd\n",
    "\n",
    "import os\n",
    "\n",
    "# folder_path = r'C:\\Users\\13282\\Desktop\\papercode\\data\\Goldstein' \n",
    "# file_path = os.path.join(folder_path, 'goldstein_data.xlsx')\n",
    "\n",
    "folder_path = r'C:\\Users\\13282\\Desktop\\papercode\\data\\Aryl\\original_processed' \n",
    "file_path = os.path.join(folder_path, 'aryl-15.xlsx')  # y 记得加负号 \n",
    "# 'aryl-1.xlsx'   'all_data.xlsx'   'aryl-1.xlsx'  \n",
    "\n",
    "\n",
    "df = pd.read_excel(file_path)\n",
    "\n",
    "print(df.shape)\n",
    "\n",
    "X_all = df.iloc[:, :-1].values  \n",
    "Y_all = -df.iloc[:, -1].values   \n",
    "\n",
    "print(X_all.shape,Y_all.shape)"
   ]
  },
  {
   "cell_type": "code",
   "execution_count": 7,
   "id": "116e23d8",
   "metadata": {},
   "outputs": [
    {
     "name": "stdout",
     "output_type": "stream",
     "text": [
      "nan 的索引: [58]\n",
      "(263, 8) (263,)\n"
     ]
    }
   ],
   "source": [
    "from sklearn.preprocessing import MinMaxScaler, StandardScaler\n",
    "min_max_scaler = MinMaxScaler()\n",
    "X_all = min_max_scaler.fit_transform(X_all)\n",
    "\n",
    "#去除存在nan的点\n",
    "nan_indices = np.isnan(Y_all)\n",
    "true_indices = np.where(nan_indices)[0]\n",
    "print(\"nan 的索引:\", true_indices)\n",
    "\n",
    "X_all = X_all[~nan_indices.flatten()]\n",
    "Y_all = Y_all[~nan_indices.flatten()]\n",
    "\n",
    "print(X_all.shape,Y_all.shape)"
   ]
  },
  {
   "cell_type": "code",
   "execution_count": 8,
   "id": "3dde0695",
   "metadata": {},
   "outputs": [
    {
     "data": {
      "text/plain": [
       "-98.29"
      ]
     },
     "execution_count": 8,
     "metadata": {},
     "output_type": "execute_result"
    }
   ],
   "source": [
    "y_min = np.nanmin(Y_all)\n",
    "y_min"
   ]
  },
  {
   "cell_type": "markdown",
   "id": "edebdc4b",
   "metadata": {},
   "source": [
    "# 选择获取函数，开始迭代"
   ]
  },
  {
   "cell_type": "code",
   "execution_count": 9,
   "id": "e61f1965",
   "metadata": {},
   "outputs": [],
   "source": [
    "from functools import partial\n",
    "from emukit.bayesian_optimization.acquisitions import MaxValueEntropySearch\n",
    "\n",
    "from emukit.bayesian_optimization.acquisitions import NegativeLowerConfidenceBound, ExpectedImprovement,ProbabilityOfImprovement\n",
    "\n",
    "from emukit.bayesian_optimization.acquisitions import SampleMaxVariance, SampleMinEuclideanDistance, \\\n",
    "                                                SampleVarianceEuclideanDistance,  SampleYDistance\n",
    "\n",
    "import os\n",
    "\n",
    "acquisition_select_1 = partial(SampleMinEuclideanDistance)\n",
    "\n",
    "acquisition_select_2 = partial(ExpectedImprovement)\n",
    "\n",
    "file_name = \"SE20_EI60-2\"  #  RDM10_EI60  LHS10_EI60  LHS3_SE7_EI60  SE20_EI60\n",
    "             \n",
    "n_loop = 40\n",
    "\n",
    "# 建模采点\n",
    "se_init =3\n",
    "maxiter_1 = 20\n",
    "# 优化迭代\n",
    "maxiter_2 = 30\n",
    "\n",
    "model_var = 0.1\n",
    "num_restarts = 5\n",
    "\n",
    "bs = 2\n",
    "top = 4\n",
    "\n"
   ]
  },
  {
   "cell_type": "code",
   "execution_count": 10,
   "id": "3f4a04e9",
   "metadata": {
    "scrolled": true
   },
   "outputs": [
    {
     "name": "stderr",
     "output_type": "stream",
     "text": [
      "Loop Progress: 100%|██████████| 40/40 [15:13<00:00, 22.84s/it]\n"
     ]
    }
   ],
   "source": [
    "from sklearn.metrics import mean_squared_error, mean_absolute_error,r2_score\n",
    "from scipy.stats import spearmanr\n",
    "from emukit.core import ParameterSpace, ContinuousParameter, DiscreteParameter\n",
    "import tqdm\n",
    "\n",
    "import logging\n",
    "logging.getLogger('variance').setLevel(logging.ERROR)\n",
    "logging.getLogger('lengthscale').setLevel(logging.ERROR)\n",
    "\n",
    "var_array , design = create_latin_design(X_all)\n",
    "\n",
    "df_min_y= pd.DataFrame()\n",
    "\n",
    "for tri in tqdm.tqdm(range(n_loop), desc=\"Loop Progress\"): \n",
    "    \n",
    "# 建模采样\n",
    "    min_y = []\n",
    "#     y_min = np.nanmin(Y_all)\n",
    "    \n",
    "    # LHS采样-----------------------------------------------------------------------------------------------        \n",
    "#     x_init = design.get_samples(maxiter_1 )                        \n",
    "#     x_init_original = get_closest_array(x_denormalizer(x_init, var_array),X_all)\n",
    "#     X = x_init_original\n",
    "\n",
    "# #     随机采样-----------------------------------------------------------------------------------------------        \n",
    "#     random_indices = np.random.choice(X_all.shape[0], maxiter_1, replace=False)  \n",
    "#     X = X_all[random_indices]\n",
    "\n",
    "    #SE迭代采样----------------------------------------------------------------------------------------------        \n",
    "    #lhs\n",
    "    x_init = design.get_samples(se_init)                        \n",
    "    x_init_original = get_closest_array(x_denormalizer(x_init, var_array),X_all)\n",
    "    X = x_init_original\n",
    "    #rdm\n",
    "#     random_indices = np.random.choice(X_all.shape[0], num_x_init , replace=False)  \n",
    "#     X = X_all[random_indices] \n",
    "\n",
    "        \n",
    "    X = SE_samples(X, X_all, batch_size= maxiter_1 - se_init )\n",
    "#-----------------------------------------------------------------------------------------------------------------  \n",
    "# 初始化模型\n",
    "    Y = find_y_by_x(X, X_all, Y_all)\n",
    "    input_dim = len(X[0])\n",
    "    ker = GPy.kern.Matern52(input_dim = input_dim, ARD = True)# \n",
    "    ker.randomize()\n",
    "    ker.lengthscale.constrain_bounded(0.01, 10)\n",
    "    ker.variance.constrain_bounded(1e-2, 1e4) \n",
    "    model_gpy = GPRegression(X,Y, ker)\n",
    "    model_gpy.Gaussian_noise.variance = model_var**2\n",
    "    model_gpy.Gaussian_noise.variance.fix()\n",
    "    model_gpy.randomize()\n",
    "    model_gpy.optimize_restarts(num_restarts=num_restarts,verbose =False, messages=False)\n",
    "    emukit_model = GPyModelWrapper(model_gpy)   \n",
    "    \n",
    "# 优化采样\n",
    "    for i in range(maxiter_2):\n",
    "        \n",
    "#  ei\n",
    "        ei_acquisition = acquisition_select_2(emukit_model)\n",
    "        ei_plot = ei_acquisition.evaluate(X_all)\n",
    "        ei_acquisition_nom = (ei_plot - np.min(ei_plot)) / (np.max(ei_plot) - np.min(ei_plot))\n",
    "        for x_row in X:\n",
    "            indices = np.where(np.all(X_all == x_row, axis=1))[0]\n",
    "            ei_acquisition_nom[indices] = 0\n",
    "                                \n",
    "        sort_index = np.argsort(ei_acquisition_nom, axis =0)\n",
    "\n",
    "        x_new = []\n",
    "        for i in sort_index[-top:]:\n",
    "                x_new.append(X_all[i][0])               \n",
    "        x_new = np.array(x_new)\n",
    "        \n",
    "        bs_index = np.random.choice(top, bs, replace=False)\n",
    "        x_new = x_new[bs_index]\n",
    "        \n",
    "        y_new = find_y_by_x(x_new, X_all, Y_all)\n",
    "        \n",
    "\n",
    "        \n",
    "             \n",
    "        X = np.append(X, x_new, axis=0)\n",
    "        Y = np.append(Y, y_new, axis=0)\n",
    "        \n",
    "        model_gpy = GPRegression(X, Y, ker)\n",
    "        model_gpy.optimize_restarts(num_restarts=num_restarts,verbose =False, messages=False)\n",
    "        emukit_model = GPyModelWrapper(model_gpy)\n",
    "\n",
    "#         regret = abs(min(Y) - y_min).item()\n",
    "        min_y.append(min(Y).item())\n",
    "             \n",
    "    # 将 DataFrame 追加到主 DataFrame 中\n",
    "    df_min_y = pd.concat([df_min_y, pd.DataFrame([min_y])], ignore_index=True)\n",
    "    "
   ]
  },
  {
   "cell_type": "code",
   "execution_count": 11,
   "id": "2ecd8dd3",
   "metadata": {},
   "outputs": [
    {
     "name": "stdout",
     "output_type": "stream",
     "text": [
      "(80, 8) (40, 30)\n"
     ]
    }
   ],
   "source": [
    "print(X.shape,df_min_y.shape)"
   ]
  },
  {
   "cell_type": "markdown",
   "id": "622efc8f",
   "metadata": {},
   "source": [
    "# 优化折线图"
   ]
  },
  {
   "cell_type": "code",
   "execution_count": 12,
   "id": "3620fffe",
   "metadata": {},
   "outputs": [
    {
     "data": {
      "image/png": "[encoded data removed]",
      "text/plain": [
       "<Figure size 432x288 with 1 Axes>"
      ]
     },
     "metadata": {
      "needs_background": "light"
     },
     "output_type": "display_data"
    }
   ],
   "source": [
    "# orig_y =  np.exp(- df_min_y) \n",
    "\n",
    "mean_data = df_min_y.mean()\n",
    "\n",
    "y_min = np.nanmin(Y_all)\n",
    "\n",
    "# 定义透明度参数\n",
    "alpha_increment = 0.3 / len(df_min_y)\n",
    "\n",
    "for i, (index, row) in enumerate(df_min_y.iterrows()):\n",
    "\n",
    "    # 计算当前透明度\n",
    "#     alpha = 0.1 + alpha_increment * (i + 1)\n",
    "    alpha = 0.3\n",
    "    # 绘制折线图，并设置颜色和透明度\n",
    "    plt.plot(row.index, row.values, color='blue', alpha=alpha)\n",
    "    \n",
    "    \n",
    "plt.plot(mean_data.index, mean_data.values,  marker='o', linestyle='-', color='blue')\n",
    "\n",
    "plt.axhline(y_min, color='black', linestyle=':', linewidth=5,)\n",
    "# 添加图例\n",
    "# plt.legend()\n",
    "\n",
    "plt.xlabel('Iteration')\n",
    "plt.ylabel('Min.Func.Value')\n",
    "\n",
    "# 显示图形\n",
    "plt.show()"
   ]
  },
  {
   "cell_type": "markdown",
   "id": "8d049b48",
   "metadata": {},
   "source": [
    "# 保存文件"
   ]
  },
  {
   "cell_type": "code",
   "execution_count": 13,
   "id": "f2922eb5",
   "metadata": {},
   "outputs": [],
   "source": [
    "import os\n",
    "\n",
    "folder_name = r'result\\Aryl\\aryl15'\n",
    "\n",
    "# 确保文件夹存在，如果不存在则创建\n",
    "if not os.path.exists(folder_name):\n",
    "    os.makedirs(folder_name)\n",
    "\n",
    "# 构建完整的文件路径，包括文件夹名称和文件名\n",
    "miny_name = os.path.join(folder_name, f'{file_name}_miny.xlsx')\n",
    "df_min_y.to_excel(miny_name, index=False, engine='openpyxl')\n"
   ]
  },
  {
   "cell_type": "markdown",
   "id": "709f41b5",
   "metadata": {},
   "source": [
    "# 检查重复"
   ]
  },
  {
   "cell_type": "code",
   "execution_count": 30,
   "id": "6d2bd038",
   "metadata": {},
   "outputs": [
    {
     "name": "stdout",
     "output_type": "stream",
     "text": [
      "(150, 9)\n",
      "总的重复次数为: 0\n",
      "总的不同重复行数为: 0\n"
     ]
    }
   ],
   "source": [
    "import numpy as np\n",
    "from collections import Counter\n",
    "\n",
    "def find_duplicate_rows(X):\n",
    "    Z = X\n",
    "    # 将数组中的每一行表示为元组，并将这些元组存储在列表中\n",
    "    row_tuples = [tuple(row) for row in Z]\n",
    "\n",
    "    # 使用Python的collections.Counter来计算元组的出现次数\n",
    "    row_counts = Counter(row_tuples)\n",
    "\n",
    "    # 初始化总的重复次数\n",
    "    total_duplicate_count = 0\n",
    "\n",
    "    # 创建一个集合来存储已经计数过的行\n",
    "    counted_rows = set()\n",
    "\n",
    "    # 打印重复行的行号（索引）和它们的重复次数，并计算总的重复次数\n",
    "    for index, row in enumerate(Z):\n",
    "        row_tuple = tuple(row)\n",
    "        if row_tuple not in counted_rows:\n",
    "            count = row_counts[row_tuple]\n",
    "            if count > 1:\n",
    "                duplicate_indices = [i for i, r in enumerate(Z) if tuple(r) == row_tuple]\n",
    "                print(f\"行 {index} 重复了 {count} 次，与行 {duplicate_indices} 重复\")\n",
    "                total_duplicate_count += count\n",
    "            counted_rows.add(row_tuple)  # 将该行添加到已计数的行集合中\n",
    "\n",
    "    # 打印总的重复次数\n",
    "    print(f\"总的重复次数为: {total_duplicate_count}\")\n",
    "\n",
    "    # 初始化总的不同重复行数\n",
    "    total_unique_duplicate_count = 0\n",
    "\n",
    "    # 创建一个集合来存储已经计数过的行\n",
    "    counted_rows = set()\n",
    "\n",
    "    # 计算不同的重复行数\n",
    "    for row_tuple, count in row_counts.items():\n",
    "        if count > 1:\n",
    "            total_unique_duplicate_count += 1\n",
    "            counted_rows.add(row_tuple)\n",
    "\n",
    "    # 打印总的不同重复行数\n",
    "    print(f\"总的不同重复行数为: {total_unique_duplicate_count}\")\n",
    "\n",
    "print(X.shape)\n",
    "find_duplicate_rows(X)"
   ]
  },
  {
   "cell_type": "code",
   "execution_count": null,
   "id": "0e9a1a62",
   "metadata": {},
   "outputs": [],
   "source": []
  },
  {
   "cell_type": "code",
   "execution_count": null,
   "id": "b9505319",
   "metadata": {},
   "outputs": [],
   "source": []
  },
  {
   "cell_type": "code",
   "execution_count": null,
   "id": "8bd47fd2",
   "metadata": {},
   "outputs": [],
   "source": []
  },
  {
   "cell_type": "code",
   "execution_count": null,
   "id": "a2c58550",
   "metadata": {},
   "outputs": [],
   "source": []
  }
 ],
 "metadata": {
  "kernelspec": {
   "display_name": "Python 3",
   "language": "python",
   "name": "python3"
  },
  "language_info": {
   "codemirror_mode": {
    "name": "ipython",
    "version": 3
   },
   "file_extension": ".py",
   "mimetype": "text/x-python",
   "name": "python",
   "nbconvert_exporter": "python",
   "pygments_lexer": "ipython3",
   "version": "3.8.8"
  }
 },
 "nbformat": 4,
 "nbformat_minor": 5
}
